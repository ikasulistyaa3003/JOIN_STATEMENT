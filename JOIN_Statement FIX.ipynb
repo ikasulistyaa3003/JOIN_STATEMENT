{
  "cells": [
    {
      "cell_type": "markdown",
      "metadata": {
        "id": "uUuWxq3ZUrkr"
      },
      "source": [
        "# <b>A. <span style='color:#0B2F9F'><code>PREFIX</code></span></b>\n",
        "Prefix merupakan penggunaan awalan pada nama tabel untuk memberikan informasi tambahan atau untuk mengelompokkan objek-objek tertentu. Sebagai contoh perhatikan gambar berikut : <br><br>\n",
        "\n",
        "<img src=\"https://raw.githubusercontent.com/bachtiyarma/Material/refs/heads/main/Image/Materi-SQL/SQL%20-%20Prefix.png\" width=\"50%\">\n",
        "\n",
        "<br><br>\n",
        "Nama tabel dimisalkan (diberi alias) sebagai tbl, lalu untuk mengakses kolom pada tabel tersebut bisa diberi prefix tbl.kolom1 dan seterusnya"
      ]
    },
    {
      "cell_type": "markdown",
      "metadata": {
        "id": "YnxlAg1UUrkt"
      },
      "source": [
        "#### <i><b><span style='color:#55679C'>Quest</span> : Pada tabel customer_demography, ambil kolom customer_id, gender, age dan married namun gunakan alias 'cdm' pada nama tabel dan sematkan prefixnya saat mengakses kolom!</b></i>"
      ]
    },
    {
      "cell_type": "code",
      "execution_count": null,
      "metadata": {
        "id": "hTP1p1jqUrkt",
        "outputId": "ca265c48-2224-4c77-9ad2-77488712c960"
      },
      "outputs": [
        {
          "data": {
            "text/html": [
              "<style type=\"text/css\">\n",
              "</style>\n",
              "<table id=\"T_aba70\">\n",
              "  <thead>\n",
              "    <tr>\n",
              "      <th id=\"T_aba70_level0_col0\" class=\"col_heading level0 col0\" >customer_id</th>\n",
              "      <th id=\"T_aba70_level0_col1\" class=\"col_heading level0 col1\" >gender</th>\n",
              "      <th id=\"T_aba70_level0_col2\" class=\"col_heading level0 col2\" >age</th>\n",
              "      <th id=\"T_aba70_level0_col3\" class=\"col_heading level0 col3\" >married</th>\n",
              "    </tr>\n",
              "  </thead>\n",
              "  <tbody>\n",
              "    <tr>\n",
              "      <td id=\"T_aba70_row0_col0\" class=\"data row0 col0\" >8779-QRDMV</td>\n",
              "      <td id=\"T_aba70_row0_col1\" class=\"data row0 col1\" >Male</td>\n",
              "      <td id=\"T_aba70_row0_col2\" class=\"data row0 col2\" >78</td>\n",
              "      <td id=\"T_aba70_row0_col3\" class=\"data row0 col3\" >No</td>\n",
              "    </tr>\n",
              "    <tr>\n",
              "      <td id=\"T_aba70_row1_col0\" class=\"data row1 col0\" >7495-OOKFY</td>\n",
              "      <td id=\"T_aba70_row1_col1\" class=\"data row1 col1\" >Female</td>\n",
              "      <td id=\"T_aba70_row1_col2\" class=\"data row1 col2\" >74</td>\n",
              "      <td id=\"T_aba70_row1_col3\" class=\"data row1 col3\" >Yes</td>\n",
              "    </tr>\n",
              "    <tr>\n",
              "      <td id=\"T_aba70_row2_col0\" class=\"data row2 col0\" >1658-BYGOY</td>\n",
              "      <td id=\"T_aba70_row2_col1\" class=\"data row2 col1\" >Male</td>\n",
              "      <td id=\"T_aba70_row2_col2\" class=\"data row2 col2\" >71</td>\n",
              "      <td id=\"T_aba70_row2_col3\" class=\"data row2 col3\" >No</td>\n",
              "    </tr>\n",
              "    <tr>\n",
              "      <td id=\"T_aba70_row3_col0\" class=\"data row3 col0\" >4598-XLKNJ</td>\n",
              "      <td id=\"T_aba70_row3_col1\" class=\"data row3 col1\" >Female</td>\n",
              "      <td id=\"T_aba70_row3_col2\" class=\"data row3 col2\" >78</td>\n",
              "      <td id=\"T_aba70_row3_col3\" class=\"data row3 col3\" >Yes</td>\n",
              "    </tr>\n",
              "    <tr>\n",
              "      <td id=\"T_aba70_row4_col0\" class=\"data row4 col0\" >4846-WHAFZ</td>\n",
              "      <td id=\"T_aba70_row4_col1\" class=\"data row4 col1\" >Female</td>\n",
              "      <td id=\"T_aba70_row4_col2\" class=\"data row4 col2\" >80</td>\n",
              "      <td id=\"T_aba70_row4_col3\" class=\"data row4 col3\" >Yes</td>\n",
              "    </tr>\n",
              "    <tr>\n",
              "      <td id=\"T_aba70_row5_col0\" class=\"data row5 col0\" >4412-YLTKF</td>\n",
              "      <td id=\"T_aba70_row5_col1\" class=\"data row5 col1\" >Female</td>\n",
              "      <td id=\"T_aba70_row5_col2\" class=\"data row5 col2\" >72</td>\n",
              "      <td id=\"T_aba70_row5_col3\" class=\"data row5 col3\" >No</td>\n",
              "    </tr>\n",
              "    <tr>\n",
              "      <td id=\"T_aba70_row6_col0\" class=\"data row6 col0\" >0390-DCFDQ</td>\n",
              "      <td id=\"T_aba70_row6_col1\" class=\"data row6 col1\" >Female</td>\n",
              "      <td id=\"T_aba70_row6_col2\" class=\"data row6 col2\" >76</td>\n",
              "      <td id=\"T_aba70_row6_col3\" class=\"data row6 col3\" >Yes</td>\n",
              "    </tr>\n",
              "    <tr>\n",
              "      <td id=\"T_aba70_row7_col0\" class=\"data row7 col0\" >3445-HXXGF</td>\n",
              "      <td id=\"T_aba70_row7_col1\" class=\"data row7 col1\" >Male</td>\n",
              "      <td id=\"T_aba70_row7_col2\" class=\"data row7 col2\" >66</td>\n",
              "      <td id=\"T_aba70_row7_col3\" class=\"data row7 col3\" >Yes</td>\n",
              "    </tr>\n",
              "    <tr>\n",
              "      <td id=\"T_aba70_row8_col0\" class=\"data row8 col0\" >2656-FMOKZ</td>\n",
              "      <td id=\"T_aba70_row8_col1\" class=\"data row8 col1\" >Female</td>\n",
              "      <td id=\"T_aba70_row8_col2\" class=\"data row8 col2\" >70</td>\n",
              "      <td id=\"T_aba70_row8_col3\" class=\"data row8 col3\" >No</td>\n",
              "    </tr>\n",
              "    <tr>\n",
              "      <td id=\"T_aba70_row9_col0\" class=\"data row9 col0\" >2070-FNEXE</td>\n",
              "      <td id=\"T_aba70_row9_col1\" class=\"data row9 col1\" >Female</td>\n",
              "      <td id=\"T_aba70_row9_col2\" class=\"data row9 col2\" >77</td>\n",
              "      <td id=\"T_aba70_row9_col3\" class=\"data row9 col3\" >No</td>\n",
              "    </tr>\n",
              "    <tr>\n",
              "      <td id=\"T_aba70_row10_col0\" class=\"data row10 col0\" >...</td>\n",
              "      <td id=\"T_aba70_row10_col1\" class=\"data row10 col1\" >...</td>\n",
              "      <td id=\"T_aba70_row10_col2\" class=\"data row10 col2\" >...</td>\n",
              "      <td id=\"T_aba70_row10_col3\" class=\"data row10 col3\" >...</td>\n",
              "    </tr>\n",
              "  </tbody>\n",
              "</table>\n"
            ],
            "text/plain": [
              "<pandas.io.formats.style.Styler at 0x14020cc50>"
            ]
          },
          "metadata": {},
          "output_type": "display_data"
        }
      ],
      "source": [
        "SELECT\n",
        "  cdm.customer_id,\n",
        "  cdm.gender,\n",
        "  cdm.age,\n",
        "  cdm.married\n",
        "FROM `telco_churn.customer_demography` AS cdm;"
      ]
    },
    {
      "cell_type": "markdown",
      "metadata": {
        "id": "i805eKLJUrku"
      },
      "source": [
        "# <b>B. <span style='color:#0B2F9F'><code>JOIN</code></span></b>\n",
        "\n",
        "Data biasanya disimpan di berbagai tabel atau sistem yang berbeda pada RDBMS (Relational Database Management System). JOIN memungkinkan pengguna untuk menggabungkan data dari berbagai sumber untuk mendapatkan gambaran yang lebih lengkap. Memahami query JOIN memungkinkan seorang pengguna untuk mengintegrasikan dan menganalisis data secara efektif, sehingga dapat meningkatkan kualitas analisis dan mendukung pengambilan keputusan berbasis data.\n",
        "\n",
        "Operasi JOIN standar dapat dilakukan jika terdapat kunci pada tiap tabel yang saling terhubung. Operasi join dasar yang paling umum digunakan ada 4 yakni :\n",
        "<ul>\n",
        "    <li><b>LEFT JOIN</b></li>\n",
        "    LEFT JOIN adalah jenis operasi penggabungan baris dari dua tabel, tetapi hanya mengembalikan semua baris dari tabel kiri (tabel pertama) dan baris yang cocok dari tabel kanan (tabel kedua). Jika tidak ada kecocokan di tabel kanan, maka nilai-nilai untuk kolom dari tabel kanan akan diisi dengan NULL.<br><br>\n",
        "    <img src=\"https://thomasadventure.blog/img/left-join-extra.gif\" width=\"20%\">\n",
        "    <br><br>\n",
        "    <li><b>RIGHT JOIN</b></li>\n",
        "    RIGHT JOIN adalah jenis operasi penggabungan baris dari dua tabel, tetapi hanya mengembalikan semua baris dari tabel kanan (tabel kedua) dan baris yang cocok dari tabel kiri (tabel pertama). Jika tidak ada kecocokan di tabel kiri, maka nilai-nilai untuk kolom dari tabel kiri akan diisi dengan NULL.<br><br>\n",
        "    <img src=\"https://thomasadventure.blog/img/right-join.gif\" width=\"20%\">\n",
        "    <br><br>\n",
        "    <li><b>INNER JOIN</b></li>\n",
        "    INNER JOIN adalah jenis operasi penggabungan yang hanya mengembalikan baris yang memiliki kecocokan di kedua tabel berdasarkan kriteria tertentu.<br><br>\n",
        "    <img src=\"https://thomasadventure.blog/img/inner-join.gif\" width=\"20%\">\n",
        "    <br><br>\n",
        "     <li><b>FULL JOIN</b></li>\n",
        "    FULL JOIN adalah jenis operasi penggabungan semua baris dari kedua tabel, baik yang memiliki kecocokan maupun yang tidak. Dengan demikian, hasilnya akan mencakup semua data dari tabel kiri dan tabel kanan.<br><br>\n",
        "    <img src=\"https://thomasadventure.blog/img/full-join.gif\" width=\"20%\">\n",
        "    <br><br>\n",
        "</ul>"
      ]
    },
    {
      "cell_type": "markdown",
      "metadata": {
        "id": "zumpBDOYUrkv"
      },
      "source": [
        "#### <i><b><span style='color:#55679C'>Pre-Quest</span>\n",
        "Untuk melakukan join biasanya akan lebih mudah jika arsitektur relasi antar tabel atau biasa dikenal ERD (Entity Relational Diagram) telah dibuat atau diketahui. Pada data telco churn ERD-nya disajikan pada gambar berikut<br><br>\n",
        "\n",
        "<img src=\"https://raw.githubusercontent.com/bachtiyarma/Material/refs/heads/main/Image/Materi-SQL/ERD%20-%20Telco%20Churn.png\" width=\"40%\">"
      ]
    },
    {
      "cell_type": "markdown",
      "metadata": {
        "id": "-vsMeHTGUrkv"
      },
      "source": [
        "#### <i><b><span style='color:#55679C'>Quest : </span>Hitung berapa rata-rata biaya bulanan tiap status customer! Tampilkan status, total_customer, avg_monthly_charge! Interpretasikan insight dari hasil perhitungan!"
      ]
    },
    {
      "cell_type": "code",
      "execution_count": null,
      "metadata": {
        "id": "LjZ3DImoUrkw",
        "outputId": "4fa4b0d5-9fff-48a9-aae5-40b69b32092c"
      },
      "outputs": [
        {
          "data": {
            "text/html": [
              "<style type=\"text/css\">\n",
              "</style>\n",
              "<table id=\"T_61b47\">\n",
              "  <thead>\n",
              "    <tr>\n",
              "      <th id=\"T_61b47_level0_col0\" class=\"col_heading level0 col0\" >status</th>\n",
              "      <th id=\"T_61b47_level0_col1\" class=\"col_heading level0 col1\" >total_customer</th>\n",
              "      <th id=\"T_61b47_level0_col2\" class=\"col_heading level0 col2\" >avg_monthly_charge</th>\n",
              "    </tr>\n",
              "  </thead>\n",
              "  <tbody>\n",
              "    <tr>\n",
              "      <td id=\"T_61b47_row0_col0\" class=\"data row0 col0\" >Churned</td>\n",
              "      <td id=\"T_61b47_row0_col1\" class=\"data row0 col1\" >1869</td>\n",
              "      <td id=\"T_61b47_row0_col2\" class=\"data row0 col2\" >74.44</td>\n",
              "    </tr>\n",
              "    <tr>\n",
              "      <td id=\"T_61b47_row1_col0\" class=\"data row1 col0\" >Joined</td>\n",
              "      <td id=\"T_61b47_row1_col1\" class=\"data row1 col1\" >454</td>\n",
              "      <td id=\"T_61b47_row1_col2\" class=\"data row1 col2\" >43.47</td>\n",
              "    </tr>\n",
              "    <tr>\n",
              "      <td id=\"T_61b47_row2_col0\" class=\"data row2 col0\" >Stayed</td>\n",
              "      <td id=\"T_61b47_row2_col1\" class=\"data row2 col1\" >4720</td>\n",
              "      <td id=\"T_61b47_row2_col2\" class=\"data row2 col2\" >62.98</td>\n",
              "    </tr>\n",
              "  </tbody>\n",
              "</table>\n"
            ],
            "text/plain": [
              "<pandas.io.formats.style.Styler at 0x140326850>"
            ]
          },
          "metadata": {},
          "output_type": "display_data"
        }
      ],
      "source": [
        "SELECT\n",
        "  cs.status,\n",
        "  COUNT(cs.customer_id) AS total_customer,\n",
        "  ROUND(AVG(ts.monthly_charge), 2) AS avg_monthly_charge\n",
        "FROM `telco_churn.customer_status` AS cs\n",
        "INNER JOIN `telco_churn.telco_services` AS ts ON cs.customer_id = ts.customer_id\n",
        "GROUP BY cs.status;"
      ]
    },
    {
      "cell_type": "markdown",
      "metadata": {
        "id": "5QJTRzmQUrkw"
      },
      "source": [
        "<b><span style='color:#FFDB00'><i>Interpretasi Hasil : </i></span></b><br>\n",
        "1. Berdasarkan hasil analisa data, diperoleh bahwa total customer \"Churned\" lebih sedikit daripada yang \"Stayed\" namun rata2 biaya bulanan nya justru lebih besar\n",
        "2. Terdapat kemungkinan bahwa biaya yang dibebankan kepada yang Churned lebih besar daripada yang Stayed (perlu dikaitkan dengan jenis layanan yang digunakan)\n",
        "3. Terdapat kemungkinan bahwa terjadi penurunan kualitas dari produk sehingga customer Churned (perlu dikaitkan dengan alasan churned)\n",
        "4. Rekomendasi yang saat ini bisa diberikan adalah menjaga customer yang Stayed agar tidak Churned dengan peningkatan layanan dsb, serta bisa memberikan penawaran kembali pada konsumen yang Churned dengan perbaikan yang telah dilakukan, sehingga bisa mengalihkan status Churned menjadi Joined"
      ]
    },
    {
      "cell_type": "markdown",
      "metadata": {
        "id": "dWeg69rpUrkx"
      },
      "source": [
        "#### <i><b><span style='color:#55679C'>Quest : </span>Coba Sudut Pandang Lebih Luas; Hitung berapa banyak customer, rata-rata biaya bulanan & rata-rata umur tiap status customer, gender dan status pernikahannya! Tampilkan status, gender, married, total_customer, avg_monthly_charge! Urutkan hasilnya per metrik perhitungan dan Interpretasikan insight dari hasil perhitungan!"
      ]
    },
    {
      "cell_type": "code",
      "execution_count": null,
      "metadata": {
        "id": "zkL_cEehUrky",
        "outputId": "096a2268-b576-49f0-c687-457df6e08311"
      },
      "outputs": [
        {
          "data": {
            "text/html": [
              "<style type=\"text/css\">\n",
              "</style>\n",
              "<table id=\"T_ebe24\">\n",
              "  <thead>\n",
              "    <tr>\n",
              "      <th id=\"T_ebe24_level0_col0\" class=\"col_heading level0 col0\" >status</th>\n",
              "      <th id=\"T_ebe24_level0_col1\" class=\"col_heading level0 col1\" >gender</th>\n",
              "      <th id=\"T_ebe24_level0_col2\" class=\"col_heading level0 col2\" >married</th>\n",
              "      <th id=\"T_ebe24_level0_col3\" class=\"col_heading level0 col3\" >total_customer</th>\n",
              "      <th id=\"T_ebe24_level0_col4\" class=\"col_heading level0 col4\" >avg_monthly_charge</th>\n",
              "    </tr>\n",
              "  </thead>\n",
              "  <tbody>\n",
              "    <tr>\n",
              "      <td id=\"T_ebe24_row0_col0\" class=\"data row0 col0\" >Churned</td>\n",
              "      <td id=\"T_ebe24_row0_col1\" class=\"data row0 col1\" >Female</td>\n",
              "      <td id=\"T_ebe24_row0_col2\" class=\"data row0 col2\" >Yes</td>\n",
              "      <td id=\"T_ebe24_row0_col3\" class=\"data row0 col3\" >319</td>\n",
              "      <td id=\"T_ebe24_row0_col4\" class=\"data row0 col4\" >78.0</td>\n",
              "    </tr>\n",
              "    <tr>\n",
              "      <td id=\"T_ebe24_row1_col0\" class=\"data row1 col0\" >Churned</td>\n",
              "      <td id=\"T_ebe24_row1_col1\" class=\"data row1 col1\" >Female</td>\n",
              "      <td id=\"T_ebe24_row1_col2\" class=\"data row1 col2\" >No</td>\n",
              "      <td id=\"T_ebe24_row1_col3\" class=\"data row1 col3\" >620</td>\n",
              "      <td id=\"T_ebe24_row1_col4\" class=\"data row1 col4\" >73.17</td>\n",
              "    </tr>\n",
              "    <tr>\n",
              "      <td id=\"T_ebe24_row2_col0\" class=\"data row2 col0\" >Churned</td>\n",
              "      <td id=\"T_ebe24_row2_col1\" class=\"data row2 col1\" >Male</td>\n",
              "      <td id=\"T_ebe24_row2_col2\" class=\"data row2 col2\" >Yes</td>\n",
              "      <td id=\"T_ebe24_row2_col3\" class=\"data row2 col3\" >350</td>\n",
              "      <td id=\"T_ebe24_row2_col4\" class=\"data row2 col4\" >81.45</td>\n",
              "    </tr>\n",
              "    <tr>\n",
              "      <td id=\"T_ebe24_row3_col0\" class=\"data row3 col0\" >Churned</td>\n",
              "      <td id=\"T_ebe24_row3_col1\" class=\"data row3 col1\" >Male</td>\n",
              "      <td id=\"T_ebe24_row3_col2\" class=\"data row3 col2\" >No</td>\n",
              "      <td id=\"T_ebe24_row3_col3\" class=\"data row3 col3\" >580</td>\n",
              "      <td id=\"T_ebe24_row3_col4\" class=\"data row3 col4\" >69.61</td>\n",
              "    </tr>\n",
              "    <tr>\n",
              "      <td id=\"T_ebe24_row4_col0\" class=\"data row4 col0\" >Joined</td>\n",
              "      <td id=\"T_ebe24_row4_col1\" class=\"data row4 col1\" >Female</td>\n",
              "      <td id=\"T_ebe24_row4_col2\" class=\"data row4 col2\" >Yes</td>\n",
              "      <td id=\"T_ebe24_row4_col3\" class=\"data row4 col3\" >46</td>\n",
              "      <td id=\"T_ebe24_row4_col4\" class=\"data row4 col4\" >43.75</td>\n",
              "    </tr>\n",
              "    <tr>\n",
              "      <td id=\"T_ebe24_row5_col0\" class=\"data row5 col0\" >Joined</td>\n",
              "      <td id=\"T_ebe24_row5_col1\" class=\"data row5 col1\" >Female</td>\n",
              "      <td id=\"T_ebe24_row5_col2\" class=\"data row5 col2\" >No</td>\n",
              "      <td id=\"T_ebe24_row5_col3\" class=\"data row5 col3\" >165</td>\n",
              "      <td id=\"T_ebe24_row5_col4\" class=\"data row5 col4\" >43.47</td>\n",
              "    </tr>\n",
              "    <tr>\n",
              "      <td id=\"T_ebe24_row6_col0\" class=\"data row6 col0\" >Joined</td>\n",
              "      <td id=\"T_ebe24_row6_col1\" class=\"data row6 col1\" >Male</td>\n",
              "      <td id=\"T_ebe24_row6_col2\" class=\"data row6 col2\" >Yes</td>\n",
              "      <td id=\"T_ebe24_row6_col3\" class=\"data row6 col3\" >38</td>\n",
              "      <td id=\"T_ebe24_row6_col4\" class=\"data row6 col4\" >48.11</td>\n",
              "    </tr>\n",
              "    <tr>\n",
              "      <td id=\"T_ebe24_row7_col0\" class=\"data row7 col0\" >Joined</td>\n",
              "      <td id=\"T_ebe24_row7_col1\" class=\"data row7 col1\" >Male</td>\n",
              "      <td id=\"T_ebe24_row7_col2\" class=\"data row7 col2\" >No</td>\n",
              "      <td id=\"T_ebe24_row7_col3\" class=\"data row7 col3\" >205</td>\n",
              "      <td id=\"T_ebe24_row7_col4\" class=\"data row7 col4\" >42.55</td>\n",
              "    </tr>\n",
              "    <tr>\n",
              "      <td id=\"T_ebe24_row8_col0\" class=\"data row8 col0\" >Stayed</td>\n",
              "      <td id=\"T_ebe24_row8_col1\" class=\"data row8 col1\" >Female</td>\n",
              "      <td id=\"T_ebe24_row8_col2\" class=\"data row8 col2\" >Yes</td>\n",
              "      <td id=\"T_ebe24_row8_col3\" class=\"data row8 col3\" >1323</td>\n",
              "      <td id=\"T_ebe24_row8_col4\" class=\"data row8 col4\" >64.67</td>\n",
              "    </tr>\n",
              "    <tr>\n",
              "      <td id=\"T_ebe24_row9_col0\" class=\"data row9 col0\" >Stayed</td>\n",
              "      <td id=\"T_ebe24_row9_col1\" class=\"data row9 col1\" >Female</td>\n",
              "      <td id=\"T_ebe24_row9_col2\" class=\"data row9 col2\" >No</td>\n",
              "      <td id=\"T_ebe24_row9_col3\" class=\"data row9 col3\" >1015</td>\n",
              "      <td id=\"T_ebe24_row9_col4\" class=\"data row9 col4\" >61.51</td>\n",
              "    </tr>\n",
              "    <tr>\n",
              "      <td id=\"T_ebe24_row10_col0\" class=\"data row10 col0\" >Stayed</td>\n",
              "      <td id=\"T_ebe24_row10_col1\" class=\"data row10 col1\" >Male</td>\n",
              "      <td id=\"T_ebe24_row10_col2\" class=\"data row10 col2\" >Yes</td>\n",
              "      <td id=\"T_ebe24_row10_col3\" class=\"data row10 col3\" >1326</td>\n",
              "      <td id=\"T_ebe24_row10_col4\" class=\"data row10 col4\" >66.2</td>\n",
              "    </tr>\n",
              "    <tr>\n",
              "      <td id=\"T_ebe24_row11_col0\" class=\"data row11 col0\" >Stayed</td>\n",
              "      <td id=\"T_ebe24_row11_col1\" class=\"data row11 col1\" >Male</td>\n",
              "      <td id=\"T_ebe24_row11_col2\" class=\"data row11 col2\" >No</td>\n",
              "      <td id=\"T_ebe24_row11_col3\" class=\"data row11 col3\" >1056</td>\n",
              "      <td id=\"T_ebe24_row11_col4\" class=\"data row11 col4\" >58.21</td>\n",
              "    </tr>\n",
              "  </tbody>\n",
              "</table>\n"
            ],
            "text/plain": [
              "<pandas.io.formats.style.Styler at 0x156044c50>"
            ]
          },
          "metadata": {},
          "output_type": "display_data"
        }
      ],
      "source": [
        "SELECT\n",
        "  cs.status,\n",
        "  cdm.gender,\n",
        "  cdm.married,\n",
        "  COUNT(cs.customer_id) AS total_customer,\n",
        "  ROUND(AVG(cdm.age), 2) AS avg_age,\n",
        "  ROUND(AVG(ts.monthly_charge), 2) AS avg_monthly_charge\n",
        "FROM `telco_churn.customer_status` AS cs\n",
        "INNER JOIN `telco_churn.telco_services` AS ts ON cs.customer_id = ts.customer_id\n",
        "INNER JOIN `telco_churn.customer_demography` AS cdm ON cs.customer_id = cdm.customer_id\n",
        "GROUP BY cs.status, cdm.gender, cdm.married\n",
        "ORDER BY total_customer, avg_monthly_charge, avg_age;"
      ]
    },
    {
      "cell_type": "markdown",
      "metadata": {
        "id": "RomDXv-WUrky"
      },
      "source": [
        "<b><span style='color:#FFDB00'><i>Interpretasi Hasil : </i></span></b><br>\n",
        "1. Berdasarkan gender terlihat bahwa:\n",
        "- kategori Stayed laki2 & perempuan seimbang\n",
        "- kategori Churned pada laki2 lebih banyak daripada perempuan, terutama untuk yang belum menikah\n",
        "2. Berdasarkan \"Married\", terlihat bahwa:\n",
        "- biaya bulanan yang sudah menikah cenderung lebih tinggi daripada yang belum menikah baik yang \"Stayed\" maupun yang \"Churned\"\n",
        "3. Pelanggan yang Churned cenderung memiliki biaya bulanan yang lebih tinggi daripada yang Stayed\n",
        "4. Pelanggan yang Churned cenderung memiliki usia yang lebih tua daripada yang Stayed\n",
        "5. Rekomendasi untuk saat ini:\n",
        "- mengidentifikasi polanya lebih lanjut penyebab pelanggan Churned dikaitkan dengan usia, gender, penggunaan produk\n",
        "- melakukan survei kepuasan pelanggan dan meningkatkan kualitas berdasarkan hasil survei\n",
        "- melakukan analisa terkait biaya langganan yang cukup tinggi sehingga bisa melakukan penyesuaian harga penawaran\n",
        "- melakukan analisa data secara berkala\n"
      ]
    },
    {
      "cell_type": "markdown",
      "metadata": {
        "id": "cE7nN8wgUrky"
      },
      "source": [
        "#### <i><b><span style='color:#55679C'>Quest : </span>Bagaimana dengan total tenure ? Hitung berapa rata-rata tenure_in_month tiap status customer! Tampilkan status, total_customer, avg_tenure_in_month! Interpretasikan insight dari hasil perhitungan!"
      ]
    },
    {
      "cell_type": "code",
      "execution_count": null,
      "metadata": {
        "id": "X9z1TRMQUrkz",
        "outputId": "d08500cc-2ed6-44d5-8060-5430a360e473"
      },
      "outputs": [
        {
          "data": {
            "text/html": [
              "<style type=\"text/css\">\n",
              "</style>\n",
              "<table id=\"T_9621b\">\n",
              "  <thead>\n",
              "    <tr>\n",
              "      <th id=\"T_9621b_level0_col0\" class=\"col_heading level0 col0\" >status</th>\n",
              "      <th id=\"T_9621b_level0_col1\" class=\"col_heading level0 col1\" >total_customer</th>\n",
              "      <th id=\"T_9621b_level0_col2\" class=\"col_heading level0 col2\" >avg_tenure_in_month</th>\n",
              "    </tr>\n",
              "  </thead>\n",
              "  <tbody>\n",
              "    <tr>\n",
              "      <td id=\"T_9621b_row0_col0\" class=\"data row0 col0\" >Churned</td>\n",
              "      <td id=\"T_9621b_row0_col1\" class=\"data row0 col1\" >1869</td>\n",
              "      <td id=\"T_9621b_row0_col2\" class=\"data row0 col2\" >17.98</td>\n",
              "    </tr>\n",
              "    <tr>\n",
              "      <td id=\"T_9621b_row1_col0\" class=\"data row1 col0\" >Joined</td>\n",
              "      <td id=\"T_9621b_row1_col1\" class=\"data row1 col1\" >454</td>\n",
              "      <td id=\"T_9621b_row1_col2\" class=\"data row1 col2\" >1.72</td>\n",
              "    </tr>\n",
              "    <tr>\n",
              "      <td id=\"T_9621b_row2_col0\" class=\"data row2 col0\" >Stayed</td>\n",
              "      <td id=\"T_9621b_row2_col1\" class=\"data row2 col1\" >4720</td>\n",
              "      <td id=\"T_9621b_row2_col2\" class=\"data row2 col2\" >41.04</td>\n",
              "    </tr>\n",
              "  </tbody>\n",
              "</table>\n"
            ],
            "text/plain": [
              "<pandas.io.formats.style.Styler at 0x1400c6790>"
            ]
          },
          "metadata": {},
          "output_type": "display_data"
        }
      ],
      "source": [
        "SELECT\n",
        "  cs.status,\n",
        "  COUNT(cs.customer_id) AS total_customer,\n",
        "  ROUND(AVG(ts.tenure_in_months),2) AS avg_tenure_in_month\n",
        "FROM `telco_churn.customer_status` AS cs\n",
        "INNER JOIN `telco_churn.telco_services` AS ts ON cs.customer_id = ts.customer_id\n",
        "GROUP BY cs.status;"
      ]
    },
    {
      "cell_type": "markdown",
      "metadata": {
        "id": "Zdr-_LBAUrkz"
      },
      "source": [
        "<b><span style='color:#FFDB00'><i>Interpretasi Hasil : </i></span></b><br>\n",
        "1. Berdasarkan data diperoleh bahwa sebanyak 1869 pelanggan Churned setelah berlangganan selama 17,98 bulan\n",
        "2. Pelanggan yang Stayed sebanyak 4720 tetap berlangganan selama 41,02 bulan\n",
        "3. Ada pelanggan yang Joined sekitar 454 selama rata2 1,72 bulan\n",
        "4. Rekomendasi yang bisa diberikan:\n",
        "- Melakukan analisa lebih lanjut terkait customer demography, survei kepuasan pelanggan, alasan churned, dsb\n",
        "- Melakukan identifikasi pada pelanggan yang Churned polanya seperti apa\n",
        "- Meningkatkan kualitas & pelayanan bagi pelanggan yang Stayed\n",
        "- Memberikan penawaran menarik bagi pelanggan yang Joined\n"
      ]
    },
    {
      "cell_type": "markdown",
      "metadata": {
        "id": "xNLpJVQBUrkz"
      },
      "source": [
        "#### <i><b><span style='color:#55679C'>Quest : </span>Perusahaan telekomunikasi ingin melakukan perluasan market ke beberapa daerah yang mana di daerah tersebut belum ada pelanggan terdaftar dalam database. Buatkan daftar kode pos pada tabel population yang sama sekali belum ada orang yang menggunakan layanan telekomunikasi! Tampilkan kode pos dan jumlah populasinya!"
      ]
    },
    {
      "cell_type": "code",
      "execution_count": null,
      "metadata": {
        "id": "Kaxr-93ZUrkz",
        "outputId": "acfa9c5a-b036-4316-94a8-de83647a9c25"
      },
      "outputs": [
        {
          "data": {
            "text/html": [
              "<style type=\"text/css\">\n",
              "</style>\n",
              "<table id=\"T_8dab3\">\n",
              "  <thead>\n",
              "    <tr>\n",
              "      <th id=\"T_8dab3_level0_col0\" class=\"col_heading level0 col0\" >zip_code</th>\n",
              "      <th id=\"T_8dab3_level0_col1\" class=\"col_heading level0 col1\" >population</th>\n",
              "      <th id=\"T_8dab3_level0_col2\" class=\"col_heading level0 col2\" >total_customer</th>\n",
              "    </tr>\n",
              "  </thead>\n",
              "  <tbody>\n",
              "    <tr>\n",
              "      <td id=\"T_8dab3_row0_col0\" class=\"data row0 col0\" >91402</td>\n",
              "      <td id=\"T_8dab3_row0_col1\" class=\"data row0 col1\" >66249</td>\n",
              "      <td id=\"T_8dab3_row0_col2\" class=\"data row0 col2\" >0</td>\n",
              "    </tr>\n",
              "    <tr>\n",
              "      <td id=\"T_8dab3_row1_col0\" class=\"data row1 col0\" >95023</td>\n",
              "      <td id=\"T_8dab3_row1_col1\" class=\"data row1 col1\" >47514</td>\n",
              "      <td id=\"T_8dab3_row1_col2\" class=\"data row1 col2\" >0</td>\n",
              "    </tr>\n",
              "    <tr>\n",
              "      <td id=\"T_8dab3_row2_col0\" class=\"data row2 col0\" >90020</td>\n",
              "      <td id=\"T_8dab3_row2_col1\" class=\"data row2 col1\" >42394</td>\n",
              "      <td id=\"T_8dab3_row2_col2\" class=\"data row2 col2\" >0</td>\n",
              "    </tr>\n",
              "    <tr>\n",
              "      <td id=\"T_8dab3_row3_col0\" class=\"data row3 col0\" >92307</td>\n",
              "      <td id=\"T_8dab3_row3_col1\" class=\"data row3 col1\" >31876</td>\n",
              "      <td id=\"T_8dab3_row3_col2\" class=\"data row3 col2\" >0</td>\n",
              "    </tr>\n",
              "    <tr>\n",
              "      <td id=\"T_8dab3_row4_col0\" class=\"data row4 col0\" >93555</td>\n",
              "      <td id=\"T_8dab3_row4_col1\" class=\"data row4 col1\" >29782</td>\n",
              "      <td id=\"T_8dab3_row4_col2\" class=\"data row4 col2\" >0</td>\n",
              "    </tr>\n",
              "    <tr>\n",
              "      <td id=\"T_8dab3_row5_col0\" class=\"data row5 col0\" >95531</td>\n",
              "      <td id=\"T_8dab3_row5_col1\" class=\"data row5 col1\" >23792</td>\n",
              "      <td id=\"T_8dab3_row5_col2\" class=\"data row5 col2\" >0</td>\n",
              "    </tr>\n",
              "    <tr>\n",
              "      <td id=\"T_8dab3_row6_col0\" class=\"data row6 col0\" >92277</td>\n",
              "      <td id=\"T_8dab3_row6_col1\" class=\"data row6 col1\" >17178</td>\n",
              "      <td id=\"T_8dab3_row6_col2\" class=\"data row6 col2\" >0</td>\n",
              "    </tr>\n",
              "    <tr>\n",
              "      <td id=\"T_8dab3_row7_col0\" class=\"data row7 col0\" >96161</td>\n",
              "      <td id=\"T_8dab3_row7_col1\" class=\"data row7 col1\" >15783</td>\n",
              "      <td id=\"T_8dab3_row7_col2\" class=\"data row7 col2\" >0</td>\n",
              "    </tr>\n",
              "    <tr>\n",
              "      <td id=\"T_8dab3_row8_col0\" class=\"data row8 col0\" >93640</td>\n",
              "      <td id=\"T_8dab3_row8_col1\" class=\"data row8 col1\" >9174</td>\n",
              "      <td id=\"T_8dab3_row8_col2\" class=\"data row8 col2\" >0</td>\n",
              "    </tr>\n",
              "    <tr>\n",
              "      <td id=\"T_8dab3_row9_col0\" class=\"data row9 col0\" >96064</td>\n",
              "      <td id=\"T_8dab3_row9_col1\" class=\"data row9 col1\" >4592</td>\n",
              "      <td id=\"T_8dab3_row9_col2\" class=\"data row9 col2\" >0</td>\n",
              "    </tr>\n",
              "    <tr>\n",
              "      <td id=\"T_8dab3_row10_col0\" class=\"data row10 col0\" >...</td>\n",
              "      <td id=\"T_8dab3_row10_col1\" class=\"data row10 col1\" >...</td>\n",
              "      <td id=\"T_8dab3_row10_col2\" class=\"data row10 col2\" >...</td>\n",
              "    </tr>\n",
              "  </tbody>\n",
              "</table>\n"
            ],
            "text/plain": [
              "<pandas.io.formats.style.Styler at 0x1511ce350>"
            ]
          },
          "metadata": {},
          "output_type": "display_data"
        }
      ],
      "source": [
        "SELECT\n",
        "  pop.zip_code,\n",
        "  pop.population,\n",
        "  COUNT(loc.customer_id) AS total_costumer\n",
        "FROM `telco_churn.population` AS pop\n",
        "LEFT JOIN `telco_churn.customer_location` AS loc ON pop.zip_code = loc.zip_code\n",
        "GROUP BY pop.zip_code, pop.population\n",
        "HAVING COUNT(loc.customer_id) = 0;\n"
      ]
    },
    {
      "cell_type": "markdown",
      "metadata": {
        "id": "h-C4jFWvUrkz"
      },
      "source": [
        "<b><span style='color:#FFDB00'><i>Interpretasi Hasil : </i></span></b><br>\n",
        "1. Dengan menggabungkan antara tabel population dan customer location, diperoleh data bahwa masih terdapat beberapa daerah dengan kode zip tertentu yang masih belum menggunakan layanan telekomunikasi perusahaan ini\n",
        "2. Potensi bagi perusahaan dalam memperluas jangkauan konsumen terbuka lebar\n",
        "3. Rekomendasi yang dapat dilakukan:\n",
        "- Melakukan analisa data secara berkala terkait alasan mengapa daerah tersebut belum ada customer, apakah memang lokasi nya terpencil atau memang promosi belum masuk ke daerah tersebut atau bisa jadi ada kompetitor di daerah tersebut\n",
        "- Memperluas program promosi dan merancang penawaran yang menarik"
      ]
    },
    {
      "cell_type": "markdown",
      "metadata": {
        "id": "v6IUXs_EUrkz"
      },
      "source": [
        "#### <i><b><span style='color:#55679C'>Quest 1 : </span> 10 Pelanggan teratas yang paling sering churned dan layanan apa yang sering mereka gunakan? Berikan interpretasinya!"
      ]
    },
    {
      "cell_type": "code",
      "execution_count": null,
      "metadata": {
        "id": "hNJ8VQJPUrkz"
      },
      "outputs": [],
      "source": [
        "select\n",
        "  a.customer_id,\n",
        "  a.cltv,\n",
        "  a.status,\n",
        "  b.internet_service,\n",
        "  b.phone_service,\n",
        "  b.streaming_movies,\n",
        "  b.streaming_music,\n",
        "  b.streaming_tv\n",
        "from `telco_churn.customer_status` a\n",
        "join `telco_churn.telco_services` b on a.customer_id = b.customer_id\n",
        "where a.status = 'Churned'\n",
        "order by a.cltv desc\n",
        "limit 10;"
      ]
    },
    {
      "cell_type": "markdown",
      "source": [
        "![Quest 1 JOIN.JPG](data:image/jpeg;base64,/9j/4AAQSkZJRgABAQEAYABgAAD/4RDgRXhpZgAATU0AKgAAAAgABAE7AAIAAAAHAAAISodpAAQAAAABAAAIUpydAAEAAAAOAAAQyuocAAcAAAgMAAAAPgAAAAAc6gAAAAgAAAAAAAAAAAAAAAAAAAAAAAAAAAAAAAAAAAAAAAAAAAAAAAAAAAAAAAAAAAAAAAAAAAAAAAAAAAAAAAAAAAAAAAAAAAAAAAAAAAAAAAAAAAAAAAAAAAAAAAAAAAAAAAAAAAAAAAAAAAAAAAAAAAAAAAAAAAAAAAAAAAAAAAAAAAAAAAAAAAAAAAAAAAAAAAAAAAAAAAAAAAAAAAAAAAAAAAAAAAAAAAAAAAAAAAAAAAAAAAAAAAAAAAAAAAAAAAAAAAAAAAAAAAAAAAAAAAAAAAAAAAAAAAAAAAAAAAAAAAAAAAAAAAAAAAAAAAAAAAAAAAAAAAAAAAAAAAAAAAAAAAAAAAAAAAAAAAAAAAAAAAAAAAAAAAAAAAAAAAAAAAAAAAAAAAAAAAAAAAAAAAAAAAAAAAAAAAAAAAAAAAAAAAAAAAAAAAAAAAAAAAAAAAAAAAAAAAAAAAAAAAAAAAAAAAAAAAAAAAAAAAAAAAAAAAAAAAAAAAAAAAAAAAAAAAAAAAAAAAAAAAAAAAAAAAAAAAAAAAAAAAAAAAAAAAAAAAAAAAAAAAAAAAAAAAAAAAAAAAAAAAAAAAAAAAAAAAAAAAAAAAAAAAAAAAAAAAAAAAAAAAAAAAAAAAAAAAAAAAAAAAAAAAAAAAAAAAAAAAAAAAAAAAAAAAAAAAAAAAAAAAAAAAAAAAAAAAAAAAAAAAAAAAAAAAAAAAAAAAAAAAAAAAAAAAAAAAAAAAAAAAAAAAAAAAAAAAAAAAAAAAAAAAAAAAAAAAAAAAAAAAAAAAAAAAAAAAAAAAAAAAAAAAAAAAAAAAAAAAAAAAAAAAAAAAAAAAAAAAAAAAAAAAAAAAAAAAAAAAAAAAAAAAAAAAAAAAAAAAAAAAAAAAAAAAAAAAAAAAAAAAAAAAAAAAAAAAAAAAAAAAAAAAAAAAAAAAAAAAAAAAAAAAAAAAAAAAAAAAAAAAAAAAAAAAAAAAAAAAAAAAAAAAAAAAAAAAAAAAAAAAAAAAAAAAAAAAAAAAAAAAAAAAAAAAAAAAAAAAAAAAAAAAAAAAAAAAAAAAAAAAAAAAAAAAAAAAAAAAAAAAAAAAAAAAAAAAAAAAAAAAAAAAAAAAAAAAAAAAAAAAAAAAAAAAAAAAAAAAAAAAAAAAAAAAAAAAAAAAAAAAAAAAAAAAAAAAAAAAAAAAAAAAAAAAAAAAAAAAAAAAAAAAAAAAAAAAAAAAAAAAAAAAAAAAAAAAAAAAAAAAAAAAAAAAAAAAAAAAAAAAAAAAAAAAAAAAAAAAAAAAAAAAAAAAAAAAAAAAAAAAAAAAAAAAAAAAAAAAAAAAAAAAAAAAAAAAAAAAAAAAAAAAAAAAAAAAAAAAAAAAAAAAAAAAAAAAAAAAAAAAAAAAAAAAAAAAAAAAAAAAAAAAAAAAAAAAAAAAAAAAAAAAAAAAAAAAAAAAAAAAAAAAAAAAAAAAAAAAAAAAAAAAAAAAAAAAAAAAAAAAAAAAAAAAAAAAAAAAAAAAAAAAAAAAAAAAAAAAAAAAAAAAAAAAAAAAAAAAAAAAAAAAAAAAAAAAAAAAAAAAAAAAAAAAAAAAAAAAAAAAAAAAAAAAAAAAAAAAAAAAAAAAAAAAAAAAAAAAAAAAAAAAAAAAAAAAAAAAAAAAAAAAAAAAAAAAAAAAAAAAAAAAAAAAAAAAAAAAAAAAAAAAAAAAAAAAAAAAAAAAAAAAAAAAAAAAAAAAAAAAAAAAAAAAAAAAAAAAAAAAAAAAAAAAAAAAAAAAAAAAAAAAAAAAAAAAAAAAAAAAAAAAAAAAAAAAAAAAAAAAAAAAAAAAAAAAAAAAAAAAAAAAAAAAAAAAAAAAAAAAAAAAAAAAAAAAAAAAAAAAAAAAAAAAAAAAAAAAAAAAAAAAAAAAAAAAAAAAAAAAAAAAAAAAAAAAAAAAAAAAAAAAAAAAAAAAAAAAAAAAAAAAAAAAAAAAAAAAAAAAAAAAAAAAAAAAAAAAAAAAAAAAAAAAAAAAAAAAAAAAAAAAAAAAAAAAAAAAAAAAAAAAAAAAAAAAAAAAAAAAAAAAAAAAAAAAAAAAAAAAAAAAAAAAAAAAAAAAAAAAAAAAAAAAAAAAAAAAAAAAAAAAAAAAAAAAAAAAAAAAAAAAAAAAAAAAAAAAAAAAAAAAAAAAAAAAAAAAAAAAAAAAAAAAAAAAAAAAAAAAAAAAAAAAAAAAAAAAAAAAAAAAAAAAAAAAAAAAAAAAAAAAAAAAAAAAAAAAAAAAAAAAAAAAAAAAAAAAAAAAAAAAAAAAAAAAAAAAAAAAAAAAAAAAAAAAAAAAAAAAAAAAAAAAAAAAAAAAAAAAAAAAAAAAAAAAAAAAAAAAAAAAAAAAAAAAAAAAAAAAAAAAAAAAAAAAAAAAAAAAAAAAAAAAAAAAAAAAAAAAAAAAAAAAAAAAAAAAAAAAAAAAAAAAAAAAAAAAAAAAAAAAAAAAAAAAAAAAAAAAAAAAAAAAAAAAAAAAAAAAAAAAAAAAAAAAAAAAAAAAAAAAAAAAAAAAAAAAAAAAAAAAAAAAAAAAAAAAAAAAAAAAAAAAAAAAAAAAAAAAAAAAAAAAAAAAAAAAAAAAAAAAAAAAAAAAAAAAAAAAAAAAAAAAAAAAAAAAAAAAAAAAAAAAAAAAAAAAAAAAAAAAAAAAAAAAAAAAAAAAAAAAAAAAAAAAAAAAAAAAAAAAAAAAAAAAAAAAAAAAAAAAAAAAAAAAAAAAAAAAAAAAAAAAAAAAAAAFJJS1JJSwAAAAWQAwACAAAAFAAAEKCQBAACAAAAFAAAELSSkQACAAAAAzUxAACSkgACAAAAAzUxAADqHAAHAAAIDAAACJQAAAAAHOoAAAAIAAAAAAAAAAAAAAAAAAAAAAAAAAAAAAAAAAAAAAAAAAAAAAAAAAAAAAAAAAAAAAAAAAAAAAAAAAAAAAAAAAAAAAAAAAAAAAAAAAAAAAAAAAAAAAAAAAAAAAAAAAAAAAAAAAAAAAAAAAAAAAAAAAAAAAAAAAAAAAAAAAAAAAAAAAAAAAAAAAAAAAAAAAAAAAAAAAAAAAAAAAAAAAAAAAAAAAAAAAAAAAAAAAAAAAAAAAAAAAAAAAAAAAAAAAAAAAAAAAAAAAAAAAAAAAAAAAAAAAAAAAAAAAAAAAAAAAAAAAAAAAAAAAAAAAAAAAAAAAAAAAAAAAAAAAAAAAAAAAAAAAAAAAAAAAAAAAAAAAAAAAAAAAAAAAAAAAAAAAAAAAAAAAAAAAAAAAAAAAAAAAAAAAAAAAAAAAAAAAAAAAAAAAAAAAAAAAAAAAAAAAAAAAAAAAAAAAAAAAAAAAAAAAAAAAAAAAAAAAAAAAAAAAAAAAAAAAAAAAAAAAAAAAAAAAAAAAAAAAAAAAAAAAAAAAAAAAAAAAAAAAAAAAAAAAAAAAAAAAAAAAAAAAAAAAAAAAAAAAAAAAAAAAAAAAAAAAAAAAAAAAAAAAAAAAAAAAAAAAAAAAAAAAAAAAAAAAAAAAAAAAAAAAAAAAAAAAAAAAAAAAAAAAAAAAAAAAAAAAAAAAAAAAAAAAAAAAAAAAAAAAAAAAAAAAAAAAAAAAAAAAAAAAAAAAAAAAAAAAAAAAAAAAAAAAAAAAAAAAAAAAAAAAAAAAAAAAAAAAAAAAAAAAAAAAAAAAAAAAAAAAAAAAAAAAAAAAAAAAAAAAAAAAAAAAAAAAAAAAAAAAAAAAAAAAAAAAAAAAAAAAAAAAAAAAAAAAAAAAAAAAAAAAAAAAAAAAAAAAAAAAAAAAAAAAAAAAAAAAAAAAAAAAAAAAAAAAAAAAAAAAAAAAAAAAAAAAAAAAAAAAAAAAAAAAAAAAAAAAAAAAAAAAAAAAAAAAAAAAAAAAAAAAAAAAAAAAAAAAAAAAAAAAAAAAAAAAAAAAAAAAAAAAAAAAAAAAAAAAAAAAAAAAAAAAAAAAAAAAAAAAAAAAAAAAAAAAAAAAAAAAAAAAAAAAAAAAAAAAAAAAAAAAAAAAAAAAAAAAAAAAAAAAAAAAAAAAAAAAAAAAAAAAAAAAAAAAAAAAAAAAAAAAAAAAAAAAAAAAAAAAAAAAAAAAAAAAAAAAAAAAAAAAAAAAAAAAAAAAAAAAAAAAAAAAAAAAAAAAAAAAAAAAAAAAAAAAAAAAAAAAAAAAAAAAAAAAAAAAAAAAAAAAAAAAAAAAAAAAAAAAAAAAAAAAAAAAAAAAAAAAAAAAAAAAAAAAAAAAAAAAAAAAAAAAAAAAAAAAAAAAAAAAAAAAAAAAAAAAAAAAAAAAAAAAAAAAAAAAAAAAAAAAAAAAAAAAAAAAAAAAAAAAAAAAAAAAAAAAAAAAAAAAAAAAAAAAAAAAAAAAAAAAAAAAAAAAAAAAAAAAAAAAAAAAAAAAAAAAAAAAAAAAAAAAAAAAAAAAAAAAAAAAAAAAAAAAAAAAAAAAAAAAAAAAAAAAAAAAAAAAAAAAAAAAAAAAAAAAAAAAAAAAAAAAAAAAAAAAAAAAAAAAAAAAAAAAAAAAAAAAAAAAAAAAAAAAAAAAAAAAAAAAAAAAAAAAAAAAAAAAAAAAAAAAAAAAAAAAAAAAAAAAAAAAAAAAAAAAAAAAAAAAAAAAAAAAAAAAAAAAAAAAAAAAAAAAAAAAAAAAAAAAAAAAAAAAAAAAAAAAAAAAAAAAAAAAAAAAAAAAAAAAAAAAAAAAAAAAAAAAAAAAAAAAAAAAAAAAAAAAAAAAAAAAAAAAAAAAAAAAAAAAAAAAAAAAAAAAAAAAAAAAAAAAAAAAAAAAAAAAAAAAAAAAAAAAAAAAAAAAAAAAAAAAAAAAAAAAAAAAAAAAAAAAAAAAAAAAAAAAAAAAAAAAAAAAAAAAAAAAAAAAAAAAAAAAAAAAAAAAAAAAAAAAAAAAAAAAAAAAAAAAAAAAAAAAAAAAAAAAAAAAAAAAAAAAAAAAAAAAAAAAAAAAAAAAAAAAAAAAAAAAAAAAAAAAAAAAAAAAAAAAAAAAAAAAAAAAAAAAAAAAAAAAAAAAAAAAAAAAAAAAAAAAAAAAAAAAAAAAAAAAAAAAAAAAAAAAAAAAAAAAAAAAAAAAAAAAAAAAAAAAAAAAAAAAAAAAAAAAAAAAAAAAAAAAAAAAAAAAAAAAAAAAAAAAAAAAAAAAAAAAAAAAAAAAAAAAAAAAAAAAAAAAAAAAAAAAAAAAAAAAAAAAAAAAAAAAAAAAAAAAAAAAAAAAAAAAAAAAAAAAAAAAAAAAAAAAAAAAAAAAAAAAAAAAAAAAAAAAAAAAAAAAAAAAAAAAAAAAAAAAAAAAAAAAAAAAAAAAAAAAAAAAAAAAAAAAAAAAAAAAAAAAAAAAAAAAAAAAAAAAAAAAAAAAAAAAAAAAAAAAAAAAAAAAAAAAAAAAAAAAAAAAAAAAAAAAAAAAAAAAAAAAAAAAAAAAAAAAAAAAAAAAAAAAAAAAAAAAAAAAAAAAAAAAAAAAAAAAAAAAAAAAAAAAAAAAAAAAAAAAAAAAAAAAAAAAAAAAAAAAAAAAAAAAAAAAAAAAAAAAAAAAAAAAAAAAAAAAAAAAAAAAAAAAAAAAAAAAAAAAAAAAAAAAAAAAAAAAAAAAAAAAAAAAAAAAAAAAAAAAAAAAAAAAAAAAAyMDI0OjEwOjE4IDE2OjA2OjA2ADIwMjQ6MTA6MTggMTY6MDY6MDYAAABSAEkASwBSAEkASwAAAP/hCxlodHRwOi8vbnMuYWRvYmUuY29tL3hhcC8xLjAvADw/eHBhY2tldCBiZWdpbj0n77u/JyBpZD0nVzVNME1wQ2VoaUh6cmVTek5UY3prYzlkJz8+DQo8eDp4bXBtZXRhIHhtbG5zOng9ImFkb2JlOm5zOm1ldGEvIj48cmRmOlJERiB4bWxuczpyZGY9Imh0dHA6Ly93d3cudzMub3JnLzE5OTkvMDIvMjItcmRmLXN5bnRheC1ucyMiPjxyZGY6RGVzY3JpcHRpb24gcmRmOmFib3V0PSJ1dWlkOmZhZjViZGQ1LWJhM2QtMTFkYS1hZDMxLWQzM2Q3NTE4MmYxYiIgeG1sbnM6ZGM9Imh0dHA6Ly9wdXJsLm9yZy9kYy9lbGVtZW50cy8xLjEvIi8+PHJkZjpEZXNjcmlwdGlvbiByZGY6YWJvdXQ9InV1aWQ6ZmFmNWJkZDUtYmEzZC0xMWRhLWFkMzEtZDMzZDc1MTgyZjFiIiB4bWxuczp4bXA9Imh0dHA6Ly9ucy5hZG9iZS5jb20veGFwLzEuMC8iPjx4bXA6Q3JlYXRlRGF0ZT4yMDI0LTEwLTE4VDE2OjA2OjA2LjUxMjwveG1wOkNyZWF0ZURhdGU+PC9yZGY6RGVzY3JpcHRpb24+PHJkZjpEZXNjcmlwdGlvbiByZGY6YWJvdXQ9InV1aWQ6ZmFmNWJkZDUtYmEzZC0xMWRhLWFkMzEtZDMzZDc1MTgyZjFiIiB4bWxuczpkYz0iaHR0cDovL3B1cmwub3JnL2RjL2VsZW1lbnRzLzEuMS8iPjxkYzpjcmVhdG9yPjxyZGY6U2VxIHhtbG5zOnJkZj0iaHR0cDovL3d3dy53My5vcmcvMTk5OS8wMi8yMi1yZGYtc3ludGF4LW5zIyI+PHJkZjpsaT5SSUtSSUs8L3JkZjpsaT48L3JkZjpTZXE+DQoJCQk8L2RjOmNyZWF0b3I+PC9yZGY6RGVzY3JpcHRpb24+PC9yZGY6UkRGPjwveDp4bXBtZXRhPg0KICAgICAgICAgICAgICAgICAgICAgICAgICAgICAgICAgICAgICAgICAgICAgICAgICAgICAgICAgICAgICAgICAgICAgICAgICAgICAgICAgICAgICAgICAgICAgICAgICAgIAogICAgICAgICAgICAgICAgICAgICAgICAgICAgICAgICAgICAgICAgICAgICAgICAgICAgICAgICAgICAgICAgICAgICAgICAgICAgICAgICAgICAgICAgICAgICAgICAgICAgCiAgICAgICAgICAgICAgICAgICAgICAgICAgICAgICAgICAgICAgICAgICAgICAgICAgICAgICAgICAgICAgICAgICAgICAgICAgICAgICAgICAgICAgICAgICAgICAgICAgICAKICAgICAgICAgICAgICAgICAgICAgICAgICAgICAgICAgICAgICAgICAgICAgICAgICAgICAgICAgICAgICAgICAgICAgICAgICAgICAgICAgICAgICAgICAgICAgICAgICAgIAogICAgICAgICAgICAgICAgICAgICAgICAgICAgICAgICAgICAgICAgICAgICAgICAgICAgICAgICAgICAgICAgICAgICAgICAgICAgICAgICAgICAgICAgICAgICAgICAgICAgCiAgICAgICAgICAgICAgICAgICAgICAgICAgICAgICAgICAgICAgICAgICAgICAgICAgICAgICAgICAgICAgICAgICAgICAgICAgICAgICAgICAgICAgICAgICAgICAgICAgICAKICAgICAgICAgICAgICAgICAgICAgICAgICAgICAgICAgICAgICAgICAgICAgICAgICAgICAgICAgICAgICAgICAgICAgICAgICAgICAgICAgICAgICAgICAgICAgICAgICAgIAogICAgICAgICAgICAgICAgICAgICAgICAgICAgICAgICAgICAgICAgICAgICAgICAgICAgICAgICAgICAgICAgICAgICAgICAgICAgICAgICAgICAgICAgICAgICAgICAgICAgCiAgICAgICAgICAgICAgICAgICAgICAgICAgICAgICAgICAgICAgICAgICAgICAgICAgICAgICAgICAgICAgICAgICAgICAgICAgICAgICAgICAgICAgICAgICAgICAgICAgICAKICAgICAgICAgICAgICAgICAgICAgICAgICAgICAgICAgICAgICAgICAgICAgICAgICAgICAgICAgICAgICAgICAgICAgICAgICAgICAgICAgICAgICAgICAgICAgICAgICAgIAogICAgICAgICAgICAgICAgICAgICAgICAgICAgICAgICAgICAgICAgICAgICAgICAgICAgICAgICAgICAgICAgICAgICAgICAgICAgICAgICAgICAgICAgICAgICAgICAgICAgCiAgICAgICAgICAgICAgICAgICAgICAgICAgICAgICAgICAgICAgICAgICAgICAgICAgICAgICAgICAgICAgICAgICAgICAgICAgICAgICAgICAgICAgICAgICAgICAgICAgICAKICAgICAgICAgICAgICAgICAgICAgICAgICAgICAgICAgICAgICAgICAgICAgICAgICAgICAgICAgICAgICAgICAgICAgICAgICAgICAgICAgICAgICAgICAgICAgICAgICAgIAogICAgICAgICAgICAgICAgICAgICAgICAgICAgICAgICAgICAgICAgICAgICAgICAgICAgICAgICAgICAgICAgICAgICAgICAgICAgICAgICAgICAgICAgICAgICAgICAgICAgCiAgICAgICAgICAgICAgICAgICAgICAgICAgICAgICAgICAgICAgICAgICAgICAgICAgICAgICAgICAgICAgICAgICAgICAgICAgICAgICAgICAgICAgICAgICAgICAgICAgICAKICAgICAgICAgICAgICAgICAgICAgICAgICAgICAgICAgICAgICAgICAgICAgICAgICAgICAgICAgICAgICAgICAgICAgICAgICAgICAgICAgICAgICAgICAgICAgICAgICAgIAogICAgICAgICAgICAgICAgICAgICAgICAgICAgICAgICAgICAgICAgICAgICAgICAgICAgICAgICAgICAgICAgICAgICAgICAgICAgICAgICAgICAgICAgICAgICAgICAgICAgCiAgICAgICAgICAgICAgICAgICAgICAgICAgICAgICAgICAgICAgICAgICAgICAgICAgICAgICAgICAgICAgICAgICAgICAgICAgICAgICAgICAgICAgICAgICAgICAgICAgICAKICAgICAgICAgICAgICAgICAgICAgICAgICAgICAgICAgICAgICAgICAgICAgICAgICAgICAgICAgICAgICAgICAgICAgICAgICAgICAgICAgICAgICAgICAgICAgICAgICAgIAogICAgICAgICAgICAgICAgICAgICAgICAgICAgICAgICAgICAgICAgICAgICAgICAgICAgICAgICAgICAgICAgICAgICAgICAgICAgICAgICAgICAgICAgICAgICAgICAgICAgCiAgICAgICAgICAgICAgICAgICAgICAgICAgICA8P3hwYWNrZXQgZW5kPSd3Jz8+/9sAQwAHBQUGBQQHBgUGCAcHCAoRCwoJCQoVDxAMERgVGhkYFRgXGx4nIRsdJR0XGCIuIiUoKSssKxogLzMvKjInKisq/9sAQwEHCAgKCQoUCwsUKhwYHCoqKioqKioqKioqKioqKioqKioqKioqKioqKioqKioqKioqKioqKioqKioqKioqKioq/8AAEQgA+gNlAwEiAAIRAQMRAf/EAB8AAAEFAQEBAQEBAAAAAAAAAAABAgMEBQYHCAkKC//EALUQAAIBAwMCBAMFBQQEAAABfQECAwAEEQUSITFBBhNRYQcicRQygZGhCCNCscEVUtHwJDNicoIJChYXGBkaJSYnKCkqNDU2Nzg5OkNERUZHSElKU1RVVldYWVpjZGVmZ2hpanN0dXZ3eHl6g4SFhoeIiYqSk5SVlpeYmZqio6Slpqeoqaqys7S1tre4ubrCw8TFxsfIycrS09TV1tfY2drh4uPk5ebn6Onq8fLz9PX29/j5+v/EAB8BAAMBAQEBAQEBAQEAAAAAAAABAgMEBQYHCAkKC//EALURAAIBAgQEAwQHBQQEAAECdwABAgMRBAUhMQYSQVEHYXETIjKBCBRCkaGxwQkjM1LwFWJy0QoWJDThJfEXGBkaJicoKSo1Njc4OTpDREVGR0hJSlNUVVZXWFlaY2RlZmdoaWpzdHV2d3h5eoKDhIWGh4iJipKTlJWWl5iZmqKjpKWmp6ipqrKztLW2t7i5usLDxMXGx8jJytLT1NXW19jZ2uLj5OXm5+jp6vLz9PX29/j5+v/aAAwDAQACEQMRAD8A+hIoo2Vi0ak725Kj+8aivbnTdMgE2ozWlpEW2iSd1jUn0ye/BqxB/qz/AL7f+hGsLxda3t0ujDTl/ex6nG5cwtKsYCP8zKCOOR3HWgDZtnsr22S4s2t7iF+UliKsrfQjg1L5EP8AzyT/AL5Feax2urWtpMLyLVomkN5I66bHIgN4XGwjZyYyvKlsrnO7mrGoN4xsrp5Ylup/s0Md6yR7mWaRkSJ4VxwQCJJNo6Hacc0AeheRD/zyT/vkUeRD/wA8k/75FQaZbS2ek2ltcTPPNDCiSSuxZnYAAsSeSSeatUAQywxCCQiJAQhwdo9Kf5EP/PJP++RRN/x7y/7jfyp9ADPIh/55J/3yKPIh/wCeSf8AfIrl/EP2z/hIl8z+2Psv2ZPsv9l7v9f5h3b8fL93ZjzPlxu71kz3Gum9a0jXWFdLvUWaSOF2URsjmDazYRsZXau7AIA4oA77yIf+eSf98ijyIf8Ankn/AHyK80Wy1S4Gn3Dw6tIbXUf3ckj3ODm3YBtj/vFXftB3FgMtg7SRUgXXn050tDrilre0F2ZzKHFz9oTzPLJ527N+dnyYxQB6P5EP/PJP++RR5EP/ADyT/vkV59LZ+IbSWZtLl1WSdNQuYLcXE0kkfk/Z2aMneSCPMwA5+majsLHWbiCxjk1DWninvoPtC+VcW7Qr5Mu8b3dmILbMkEKDjb1oA9AuHs7SNXufJiVnWNS4AyzEBR9SSBSsbNLiOB/IWaUM0cZwGcDGSB1OMjP1FYGra7a6nHZw+HdUhvLhb+2eaOxuBI4h81Q5YIc7MHnPGDzWRoFvfv4s06fUItTa6ijvVvJLlZDCrM6bBGT8gBUcbeMAd6AO68iH/nkn/fIo8iH/AJ5J/wB8im3MUk1pLFBO1vI6FUmRQxjOOGAIIOPcVyXgjS/HlpfX0vjrX7W/gVzHZw2tskYdf+ejkLkHttB455PFAHX+RD/zyT/vkUeRD/zyT/vkU+igBnkQ/wDPJP8AvkUeRD/zyT/vkU+igBnkQ/8APJP++RR5EP8AzyT/AL5FPooAZ5EP/PJP++RR5EP/ADyT/vkU+igBnkQ/88k/75FHkQ/88k/75FPooAZ5EP8AzyT/AL5FRxwxF5cxpw3Hyj0FT0yP/WS/7/8A7KKADyIf+eSf98iq8s9jDqFvZSBBcXCO8SeX94Jt3HOMDG5evrVbxL9v/wCEbvf7J8z7X5fyeV9/GRu2/wC1tzj3xXE6xpc2pxumn2+uTW/2DUEiN75ocOY4Sqgt8+1mU8P1+YcrQB6P5EP/ADyT/vkUeRD/AM8k/wC+RXF6Zbasuv2FpC2oLpLRxXrSTNIChWMxmAl+Rltj7T1+au3IyCAce47UAM8iH/nkn/fIo8iH/nkn/fIri/D+j+P7fxleSeIfE1vd6BFzaRRWkaSz57SEL8u326+3Su3oAZ5EP/PJP++RR5EP/PJP++RT6KAGeRD/AM8k/wC+RR5EP/PJP++RT6KAGeRD/wA8k/75FHkQ/wDPJP8AvkU+igBnkQ/88k/75FRxQxFDmND8zfwj1NT0yH/Vn/fb/wBCNAB5EP8AzyT/AL5FHkQ/88k/75FY/i4XTaCRZPdRv50e5rWN3bbu5BCEPt7Ep8w9DzXHLb6pBMupHTtWmun0iSONJLidjvEpwGZdpHyYYA4Y/wC/zQB6T5EP/PJP++RR5EP/ADyT/vkV5xY2eoz3eny6guqTwWetHypDHdRkRNBw2xmZ9vmcZYnAJBIBIpsE/iCfToIJP7cilg0oR3MnkTE+cJ03EcqXOzd8yEttJ25PFAHpPkQ/88k/75FHkQ/88k/75FZHhNrptBX7bHdRuJZAoundmK7jgjeA+PQP8wHUmqPjux8X3ejpJ4C1aCw1CJvmiuYUeOdT1GSpKkdQenb3AB0vkQ/88k/75FHkQ/8APJP++RVPRLXULPRbaDWtQ/tG/VP39yIljDt3wqjAHYd/Wr9ADPIh/wCeSf8AfIo8iH/nkn/fIp9FADPIh/55J/3yKPIh/wCeSf8AfIp9FADPIh/55J/3yKPIh/55J/3yKfRQAzyIf+eSf98ijyIf+eSf98in0UAM8iH/AJ5J/wB8ijyIf+eSf98in0UAM8iH/nkn/fIo8iH/AJ5J/wB8in0UAM8iH/nkn/fIqMwxfaEHlpja3G0eoqemH/j4T/cb+YoAPIh/55J/3yKitnsryATWvkzREsodACCQSCPwII/CrFeYvB4kl025lZ9aW4t9OkkgVXmG6cXMu0ED7x2bflOcrjjpQB6X5EP/ADyT/vkUeRD/AM8k/wC+RXnFxp+qWNzqEVn/AGlbwS6w0lzKqXMxaIxfu2XY6sw3Z3bGyMLu4AFPksdfNlqDm91qaaK3sUtnXzYt+5/3h2An5goGepHOaAPRPIh/55J/3yKPIh/55J/3yK871C21+KWS0judUh02PUJ1E4S4uJAnlRmPlHWRk3GUZyRnAPStDQ/J8Pa9qN1r95NB9pt7ULd30jRxzP5fz/eYoHyD8oOQM44oA7TyIf8Ankn/AHyKPIh/55J/3yK4q+vLy88W2l3o897e2UjQrGbZ3+z7dxDtvTdGwHO5XAbj5T0rHs7TxJPbRC7v9ZFxLPbx3sKQTxeWTON7LIXKkbd3+rAXGCcUAekwwxG3jJjQkqMkqPSpPIh/55J/3yKIP+PeP/cH8q5jxhcGLVNEhkm1BLaaSYTJp7SiRwIiRxH8xwcHj+WaAOjU2b3EkCeQ00QVpIxgsgOcEjqM4OPoak8iH/nkn/fIrzW3sPEAgudRuE1NNSjttO2FC4MpEr7w4XhyEI3A5xk0Xn/CSfYLn7J/bP8AaH2a6+2583y9+7915P8ADn08vtnPNAHpXkQ/88k/75FHkQ/88k/75Fef6rba9a6hdWdrPqY0pb2MmYi4uHCGDnaUdZGXzOoVuD7ZFbkGs2tt4cXTJ9dSTWBa7FV2jS6aQr8v7pn+/wAjgnk9TQB0nkQ/88k/75FHkQ/88k/75FeaJ/wkLafHGratHZi6UTzvHdSOw8o8rHuWcLuxkByM9OMitG30nXLpNQDajqpng0y3NlK7SQLJN+8J3JuwW+VAwJPXnrQB2xih+1KgSPOwkrgeox/WpPIh/wCeSf8AfIrn/Cp1GbzLzVVuYpL3dOtvOT/o6lyFQA9MKEyPU10dADPIh/55J/3yKPIh/wCeSf8AfIrzLVLHWNQtdctXi1i5DRSyLvM0Y3CUFU2ZKN8udvlNggcrnFX7m11n+z9TubGbVlVtRiiRZTO7LabIyWSPcrk5JyQQ3DDOc0Ad95EP/PJP++RR5EP/ADyT/vkV5nqbeIrawgWyk1W4kiiMsFwLa7DSt5x/dmPzMKAvOZdxYEDrWgum6tcarG08+srHPqF+kwW4mRRCCxhxg/KMhcEYyDjkcUAduj2Ul1LbR+S00IVpIwBlA2dpI98H8ql8iH/nkn/fIrzqwi8RXs2nR6g2rpHI1iLgq0sWB9nm83JGMfNs3dOduecVRv7vWLTRZG1a41mGSKxK2jxvKuJBPIuZSvcoI8F+CM45oA9T8iH/AJ5J/wB8io4YYjbxkxoSVGSVHpXPeI9btNR0eWy0HVo5tQM8I8qwuQ0wUTJvwEO4YXdn2zmulg/494/9wfyoAPIh/wCeSf8AfIo8iH/nkn/fIrnvGgvDY2v2J71QJiZBaJKdw2NgMYT5ijPQqGGQMjFcsNN1T+0JHEWt2098NN8yRZpWYJvxMC64UFc88DAyQACaAPSvIh/55J/3yKPIh/55J/3yK4GSHX4fEF83nai5t3k+zWqxTmO4hEJ2KZvM8tST32+Zu71U0yPXru6itZ31dbJ7+3Z3C3UJCGCbzF3SOZNoYICdwGcEYyKAPRLp7KytZLm78mGGMbnkcABR6k1L5EP/ADyT/vkV5o9v4kt9FVoZNae5msblZNzyswdJ0EWB/CxTPIwWGTz1q5PD4hhuJ7qzk1L7RJeahGqyyOYljEUhhO1vlC7wuG98ZxQB3/kQ/wDPJP8AvkVGYYvtCDy0xtbjaPUVxfhjXrCx1O+TUNVubaAWlphdZuXRhKfNL48055wvTj04xWzoU0t34k1m6E8s9jK8f2N95aFkEUeTGemNxbJHcUAb/kQ/88k/75FHkQ/88k/75FPry/VLHWNQtdctXi1i5DRSyLvM0Y3CUFU2ZKN8udvlNggcrnFAHpvkQ/8APJP++RR5EP8AzyT/AL5FcDqVtrJk1W502bVlg+0WkcSuZ222xijMjLHuVy24fMQQ/wB4ZBJqjqbeIrawgWyk1W4kiiMsFwLa7DSt5x/dmPzMKAvOZdxYEDrQB6Z5EP8AzyT/AL5FRI9lJdS20fktNCFaSMAZQNnaSPfB/KuLi03VLrXIjcz6wkM+q3kUwW5mRFtwrNGRg4UbguGGM5xnHFZ+mx+JLxbGPUTrCLJJYrOd0sZC+VL5uSMEc7Nx9cZ5xQB6T5EP/PJP++RR5EP/ADyT/vkV5Zql1q9loc7ancazD5On3AtJI3lUiUXEiq0pXn/ViPBfg845rqPF99puveF9R03S9Qgvb4RlltbS6DSsVOSNqHJ78UAdPDDEbeMmNCSoySo9KKkg/wCPeP8A3B/KigBkMsaowaRAd7cFgP4jT/Oi/wCesf8A32KSD/Vn/fb/ANCNSUAM86L/AJ6x/wDfYo86L/nrH/32KfRQAzzov+esf/fYo86L/nrH/wB9im3V1BY2kt1eTRwW8KF5JZGCqijqST0FV9H1ix17TE1DSpvPtZHdFcoyfMjlGGGAIwysOnagCxNNEYJAJUJKHADD0p3nw/8APVP++hRN/wAe8v8AuN/KrNAFbz4f+eqf99Cjz4f+eqf99CqmoeJNI0rVLPTb69SK9vXCQQAFmYkkAkAHaCQRk4Ge9RQeLNFufEDaLDds16rtHgwSCNnUbmRZSuxnA5KhiRzkcGgDQ8+H/nqn/fQo8+H/AJ6p/wB9Csubxr4fhXUCdQ8w6bdJZ3KwwySsJ2A2xqqqS7fMOFBIOR1BxMPFWjHw42vG7I02MlZJWhcGIh9jB0K7k2tkNuA24OcYNAF7z4f+eqf99Cjz4f8Anqn/AH0KztR8XaJpVxcW95dt59uYleGK3klctJuKIqopLuQjHauSAMkAYNO0vxXous3UVrp14ZbiWKSYRNC6MqxuEcMGUFGVmAKthuelAF/z4f8Anqn/AH0KPPh/56p/30KwJfiL4djNph9SlF6M2zQaNeSrN8pbCskRDEKpJA5GDnpVrTvGej6rqbWNh/aMsqTPA8n9lXSwpImQymUxhAQQRy3XjrQBq+fD/wA9U/76FHnw/wDPVP8AvoVZooArefD/AM9U/wC+hR58P/PVP++hVmigCt58P/PVP++hR58P/PVP++hVmigCt58P/PVP++hR58P/AD1T/voVZooArefD/wA9U/76FHnw/wDPVP8AvoVZooArefD/AM9U/wC+hR58P/PVP++hVmigCt58P/PVP++hUcc0QeXMictx8w9BV2o4v9ZN/vj/ANBFAEXnw/8APVP++hR58P8Az1T/AL6FWaKAK3nw/wDPVP8AvoUefD/z1T/voVZooArefD/z1T/voUefD/z1T/voVZooArefD/z1T/voUefD/wA9U/76FWaKAK3nw/8APVP++hR58P8Az1T/AL6FTTTR28Ek1xIsUUal3d2wqqBkkk9ABWbb+JtJufDsuupctHpkKNK1xNBJENijJcB1BZccggEHtmgC558P/PVP++hR58P/AD1T/voVjXPj3w5aJYvNfvsvreO6idLWV1WGQgJJIQpESknGX2jr6GtJ9d02PxFFoT3S/wBpzWzXSWwBJ8pWClicYAyQBk884zg0AT+fD/z1T/voVHFNEEOZEHzN/EPU1dqOD/Vn/ff/ANCNAEXnw/8APVP++hR58P8Az1T/AL6FN1TVLPRtOlvtSmEFvFgM20sSSQFUKASzEkAAAkkgCqGn+L9F1OeGC1upBcTTNAsE9tLDKsip5hV0dQyHZ8w3AZBGM5oA0fPh/wCeqf8AfQo8+H/nqn/fQqzRQBW8+H/nqn/fQo8+H/nqn/fQqzVUajatqzaYJf8ATEgW4aPaeIyxUHOMdVIxnPFAC+fD/wA9U/76FHnw/wDPVP8AvoVZooArefD/AM9U/wC+hR58P/PVP++hVmigCt58P/PVP++hR58P/PVP++hVmigCt58P/PVP++hR58P/AD1T/voVZooArefD/wA9U/76FHnw/wDPVP8AvoVZooArefD/AM9U/wC+hR58P/PVP++hVmigCt58P/PVP++hR58P/PVP++hVmigCt58P/PVP++hUZmi+0IfMTG1udw9RV2o2/wCPpP8Acb+a0ARefD/z1T/voUefD/z1T/voVZrM0fXI9ae9Nta3McFpcyWwuJQgSd42KSbMMWwrqVJYLyOMjmgC158P/PVP++hR58P/AD1T/voVFY6tBqGo6lZQpIsmmzpBMXAAZmiSQFeeRiQdcc5+tXqAK3nw/wDPVP8AvoUefD/z1T/voVZooArefD/z1T/voUefD/z1T/voVZooApQzRC3jBkQEKMgsPShxZyzRSyCB5ISTG7YLISMHB7ZHFWbb/j1i/wBwfyoluYIJIY55o43uHMcKu4BkbaW2qD1O1WOB2UntQBF58P8Az1T/AL6FHnw/89U/76FWaKAK3nw/89U/76FHnw/89U/76FWaKAK3nw/89U/76FHnw/8APVP++hVmigCkZovtCHzExtbncPUVJ58P/PVP++hUrf8AH0n+4381qSgCt58P/PVP++hR58P/AD1T/voVV0jXItZuL9La1uEhsrhrb7TIEEc7qSHCYYt8rAqSwHPTNS2WrwX2qajYRJIJdOdElLAbWLoHG3n0Ydcc0AS+fD/z1T/voUefD/z1T/voVZooArefD/z1T/voVVuLPSry6hubu2s554DmKWWNWaM5z8pPI59K06KAK3nw/wDPVP8AvoVHDNELeMGRAQoyCw9Ku1Hbf8esX+4P5UARefD/AM9U/wC+hR58P/PVP++hVXXdci0K3t3e1uLya6uFtre2tQnmSuQTgb2VRhVZiSRwpqXWdXg0PS3v7tJHiR40IiALZd1QdSO7D8KAJfPh/wCeqf8AfQo8+H/nqn/fQqzRQBW8+H/nqn/fQpGlgdSryRspGCCwIIq1RQBm2VrpmmRNFpsFpaRs25kgRYwT64HepTNF9oQ+YmNrc7h6irtRt/x9J/uN/NaAIvPh/wCeqf8AfQo8+H/nqn/fQqzWZpGuRazcX6W1rcJDZXDW32mQII53UkOEwxb5WBUlgOemaALXnw/89U/76FHnw/8APVP++hUVlq8F9qmo2ESSCXTnRJSwG1i6Bxt59GHXHNXqAK3nw/8APVP++hR58P8Az1T/AL6FWaKAMy5s9KvbiGe8trO4mgOYpJY1Zoz1+Unp+FWvPh/56p/30Ks0UAUoZohbxgyICFGQWHpRVm2/49Yv9wfyooAhg/1Z/wB9v/QjUlQwswRsRsw3tyCP7x96fvf/AJ4v+a/40APopm9/+eL/AJr/AI0b3/54v+a/40APrF8J6fdaZo08F9F5Uj6nfzqu4HKS3k0iHg90dTjqM4ODWvvf/ni/5r/jRvf/AJ4v+a/40AE3/HvL/uN/KrNU53cW8v7l/uN3X0+tWPNf/nhJ+a/40AY3ijTbrUf7H+xxeZ9m1WC4l+YDbGu7J5PPXoOa5U+HfEkmox6da2509bTWL/U4dZZo5YsTxXCxhYt4curXPIYBf3Z5ORXofmv/AM8JPzX/ABo81/8AnhJ+a/40AecaF4Z8SeFk12J7O31azuGgjji07NlPKnlBJJUkadiHHP3mVi2W3jIrZ8J+Fr230RYNWuLuCzkNyraNKYJUaKWWRh50m1neTa43ESEEjkscs3Xea/8Azwk/Nf8AGjzX/wCeEn5r/jQB51pPhLVfD2iaFeRWE2oX+najPPd27XEZnuI3SSBGDswQusflABmHyqRnPW2tv4gtvE9t4oPhhnMltdWsmnWc8Czxh5ImjkkLOsbMRGd21jjK43cmu681/wDnhJ+a/wCNHmv/AM8JPzX/ABoA4zSvDOp2Gn+BreaJGfSZXe9KSArFutZk4zgt87qvA98Yqp4R0W90jxTqL32ha6rXOq3k8d6uqqbLypJGZGMH2jqQR/yyzk59677zX/54Sfmv+NHmv/zwk/Nf8aAJKKj81/8AnhJ+a/40ea//ADwk/Nf8aAJKKj81/wDnhJ+a/wCNHmv/AM8JPzX/ABoAkoqPzX/54Sfmv+NHmv8A88JPzX/GgCSio/Nf/nhJ+a/40ea//PCT81/xoAkoqPzX/wCeEn5r/jR5r/8APCT81/xoAkoqPzX/AOeEn5r/AI0ea/8Azwk/Nf8AGgCSo4v9ZN/vj/0EUea//PCT81/xqKKV/Mm/cSff9V/uj3oAs0VH5r/88JPzX/GjzX/54Sfmv+NAElFR+a//ADwk/Nf8aPNf/nhJ+a/40ASUVH5r/wDPCT81/wAaPNf/AJ4Sfmv+NAElFR+a/wDzwk/Nf8aPNf8A54Sfmv8AjQBk+MdIuNf8E6xpNk4Se8s5IYyxwCWUjBODgHoTg9ehri4fCXijVLO4jjuJ9J09LpJ4NN15zqckjLH3dbjhPMwyqXb5kBwBxXpXmv8A88JPzX/GjzX/AOeEn5r/AI0AeP3HgjxO2i6Pb3WnNd3sOh2llFLaXCQQ2s8chYi6QyHz4wvljH7xSVkIVd4x01h4Q8Q2HxNtdaub+xvrSRL1rmZbJopVEhi8qIsZmyAEABCgAI2RufdXdea//PCT81/xo81/+eEn5r/jQBJUcH+rP++//oRo81/+eEn5r/jUUEr+Wf3En327r/ePvQBk+MNOvL/S7SXTIBc3FhfQXi2xcJ54RssgJ4DYJIzgZAyQORz9/wCH7vxhr2mXXiHwrbw6bFeSNJbXZhlkZPs5VWmCsyMd5wAC2AATjt3fmv8A88JPzX/GjzX/AOeEn5r/AI0AeS6J4Y8U6bpljpdzok8xmvtJvJrsXcJS3W3WBJVbL7mYeQSNoIIPXPFSW3wx8zT9AttQ8P2kiQaVqC3qP5bA3cptxGzc/M2IjhuduxeRha9W81/+eEn5r/jR5r/88JPzX/GgDx7Sfh94j/tpbvVDqkereSDBqkU1mYof9FEYjkbabg4fIKKShOGznNdB8PvDNxo/iGW6/wCEW/4R+3/smC1lHnQv9ouEdi7/ALtmJyCPnbDN3Ar0HzX/AOeEn5r/AI0ea/8Azwk/Nf8AGgCSio/Nf/nhJ+a/40ea/wDzwk/Nf8aAJKKj81/+eEn5r/jR5r/88JPzX/GgCSio/Nf/AJ4Sfmv+NHmv/wA8JPzX/GgCSio/Nf8A54Sfmv8AjR5r/wDPCT81/wAaAJKKj81/+eEn5r/jR5r/APPCT81/xoAkoqPzX/54Sfmv+NHmv/zwk/Nf8aAJKKj81/8AnhJ+a/40ea//ADwk/Nf8aAJKjb/j6T/cb+a0ea//ADwk/Nf8aiaV/tSfuJPuN3X1X3oAs145q/w5u18Mx6dYeGoRFJqOpzzR2UFl5gLzyG1f9+DGEERAJAMijaFxgivX/Nf/AJ4Sfmv+NHmv/wA8JPzX/GgDyO88Fa5d6JImq6PdX0r3drO0aS2sxdk0+KJmeOc+XIBIrA5ZWBAZSak03wHrI8YaZqGtWl95kC2LQT2E9q0FmsUKLJCzzBrnaXWQkIxDiTk53GvWPNf/AJ4Sfmv+NHmv/wA8JPzX/GgCSio/Nf8A54Sfmv8AjR5r/wDPCT81/wAaAJKKj81/+eEn5r/jR5r/APPCT81/xoALb/j1i/3B/Kub8XaCuq634U1AaRFqLaXq3nSMyxl4I2glTeC5HCyGFyAc/uwQCVFb9vK/2WL9xJ9wd19PrUvmv/zwk/Nf8aAPJYfBms6B4UsodM8Nm4urnw5Pp15DbTQRsl04jw8jM4DA7SCyliNo4I6WtD8DanbfECHVNWg1JpY5llhvYJLPyUiEATyXJX7RgHI2KSh4bOc16h5r/wDPCT81/wAaPNf/AJ4Sfmv+NAElFR+a/wDzwk/Nf8aPNf8A54Sfmv8AjQBJRUfmv/zwk/Nf8aPNf/nhJ+a/40ADf8fSf7jfzWpKrNK/2pP3En3G7r6r71L5r/8APCT81/xoA8o1D4e3Eeg/YrXw3CYJ9bvbm6isoLJpWjZ5Ps7ATgxbQrL1BZRgKBzVL/hBfEEvhm3h1jRrq+mUWLSxpNazl5I7FYnLxzny5VEgYHLKwOGUmvZPNf8A54Sfmv8AjR5r/wDPCT81/wAaAPJk8B61N4n0i81i0vmNvb2Agl02e1aOwaIDzUL3AacLuBP7tjvDYb1PrtR+a/8Azwk/Nf8AGjzX/wCeEn5r/jQBJRUfmv8A88JPzX/GjzX/AOeEn5r/AI0ASVHbf8esX+4P5Uea/wDzwk/Nf8ait5X+yxfuJPuDuvp9aAMHxf4ai8Qah4bkm0y2vo7DU/PmM8aN5cfkSjPzdfnMfA7gHtkeeJ4F8TNrl9df2PLE90kn2plazjhmk+3W8kbJsIlcCJJTumJYcgYzz7N5r/8APCT81/xo81/+eEn5r/jQB5FqfgbxDcaz4hl0jTZbSS/iud97NPBumDyqyxxSp87KygjbOhEfAVsDntPh34e/4R3RbuEWuoWST3RlW2vvsgKfIoJVLUCJFJHQdTknk11Pmv8A88JPzX/GjzX/AOeEn5r/AI0ASUVH5r/88JPzX/GjzX/54Sfmv+NAElRt/wAfSf7jfzWjzX/54Sfmv+NRNK/2pP3En3G7r6r70AWa8k1D4e3Eeg/YrXw3CYJ9bvbm6isoLJpWjZ5Ps7ATgxbQrL1BZRgKBzXq/mv/AM8JPzX/ABo81/8AnhJ+a/40AeQx+CNek8ILbazpN1eTn+zmmijntZWkeKyWJyyTExSgSA5Viv8AfU5UZLPwBrb+INIutasr4fZ4rIWz6bNaGPT/ACj88bNOGmUZGSImYMGKk4GT695r/wDPCT81/wAaPNf/AJ4Sfmv+NAElFR+a/wDzwk/Nf8aPNf8A54Sfmv8AjQBJRUfmv/zwk/Nf8aPNf/nhJ+a/40AFt/x6xf7g/lRSWpzaQ8Y+ReD9KKAIoP8AVn/fb/0I1JUcH+rP++3/AKEakoAKKKKAKup3U1lpdxc2lnJfTxxlo7aNgrSt2XJ4HPftWd4d1y81abUrXU7CGzu9OuFglFvcm4iYtGsg2uUQ5AcZBUY9wa0dTgvLnSrmDTLxbG7kiZYbpoRKIWI4bYSA2OuCazPCmiahoGmmyv7yxuo1O6NrWykgYsSS7yF5pC7MTktwc5znPABtTf8AHvL/ALjfyqzVab/j3l/3G/lVmgDC17xDc6Nqml2yaU9xbX11HbvdmdUWIuTgBeWY8Z6AY754rLn8c3lt4sl0aTRUlby55IYba+WW7ZY1JDvBtAjRyNqsXOSVBAzxva3o39sf2f8Av/J+xX0d39zdv2Z+XqMZz15+lZF14X1m71uO9m8QQvHZSXE+nK2njzIJJI3jAdw4EkaiQ4UKpOFyxIzQBXHjLWI7fVo73QbOC/01YZJR/ao+yxxyBiXknaNdmxUJYBGwCpGQc1bsvGsM3gCXxRdWjJHEsp8q3kEomKOUUxPhd6uQCrEDIYHiqukeFfEuk6M9pF4k08XBlE/2qPSGDTyZ/eNOGnbzN3+yUIwMEAAUkfw10iXQ7i31OK2uNUuROW1WK0SOaJpZGkPlZ3FFDOSFyR65JJIAy58d3+lTSWOuaFHBqsscT2Nta33nJcmSURBTIUTYVZl3fKQAcgt0qprHxKu9Agkg1fStPs9ShvLeCQT6qUtFjmVyk3nmLIGYnUgoMEemCbdz4Dv9Vmkvtc16OfVYo4ksbq1sfJS2McolDGNnfeWdV3cgEDAC9ajvPAWqX039pz69anW/ttvc/aP7Ob7OEgWQJEIvO3YzK5JMhOT6YFAEcPj3Wb27jt9K0rQb8/2e1+9xBr7NblBI0eEk+z4Y5U5ztAPGeM1PaePr7WLU6h4d8OyX+nwQW810XufLuAZYUm2RRBGEjLHIhILLy2ATUreAINX8RR6z4zTSNcmjsvsqxNpQWNCJC4dRI8hBwcdf8KnvfCepHUtRk0TXRplnqrRveRLa75VZY1jLQyBwIyY0ReVfG0EYoA6qiiigAooooAKKKKACiiigAooooAKKKKACo4v9ZN/vj/0EVJUcX+sm/wB8f+gigCSiiigAooooAKKKKACiiigClrOq22haHe6rfFhbWUDzy7BliqgkgDueOBXP2vjyCfwVJrxjsriXzDDDZ6bqCXfmSnGyIuoChzkbgMhRk5IGa3df0eDxD4ev9Iu2ZYb2BoWZQCVyMZGeMjrzxXMx/DeG+uLm+8S38l3qUzqyT6a02nJFti8sYWOUknaWySxyDgADigClqHxTayh0KQaTCf7WsLe9EUt95ckhlZR5Nuuw+fIu7JX5OCvrx01h4hubrxhe6Jc6U9olvbrcRTvOrGdS7Jnaudo+XIyc4PIFcyfhXJFo9tplnrhW3OlQaXetcWzTySRxOz7onaTMLEyN13hQEAA2CuwXRtviyXW/Pz5lilp5OzptkZ927P8AtYxjt1oA06jg/wBWf99//QjUlRwf6s/77/8AoRoAzvEWtnQtNSaK2N3c3E8dtbW4fZ5krthQWwdqjkk4OADwTxWFc+PLnRru0tfEuhzWctxcvAWsjLeIwEJkDxBIg8g42kbFKkE8jk7viLRDrumpDFcm0ureeO5trgJvEcqNuUlcjcp5BGRkE4IPIzbXwtqTa1Y6rrOuC9ubW5km8uK1MUIVoTEEjQuxQc7iSzEknoMYALlr4x0G9sxd2moLLAZreASLG+C84Roh0/iEqc9BnnGDig/xK8LpawXH2y7aK4WV4Smm3LGVYtnmMoEeSq+YuWHH3uflbGNp3wxvdLgsrO18QRfYIp7G5uY3sCZJpbURgbX8zCKwiTI2sQRnPatSz8B/ZIdGT+0t/wDZemXen58jHm+eYjv+9xt8rpznd1GOQDRXxt4ffUksl1DLyY2zeTJ5BJj8wL523y92z5tu7OOcVBoPjjT/ABJ4gm0/SkmeCOyjuxcywyQ+YHdlG1ZEUspC5DjIOeOlc7pfwe0/T7giU6Xd28sWyaWXSUN5uMAiby7jdlFON2NpIJIDYre8N+FdT0jWDqGr61DqLrp8VhEsVj9nwkbMQzfO2WO7nGBxwBQB1NFFFABRRRQAUUUUAFFFFABRRRQAUUUUAFFFFABUbf8AH0n+4381qSo2/wCPpP8Acb+a0ASVylh8SPD9/bwyD+0Lcz3FzBHFPps6uxt5AkjbdnCgsCScYyQ2CrBerrktP8Dva6kJ7nUVngSTUzHEluUYJezLMylt5yVYOMgDIYcAgkgGjP4z0G3gjlkvWIltorqJUt5HeSOVtse1FUszMR90At7VoaVqtnrWnJfabKZYHLKC0bIysrFWVlYBlYEEEEAgiuAm+E1zqFvDHrGtWN+bK2tbazSXSQYQsDMR50bSES7g5BwU9Riu38OaMmgaHDp8cdjHsLMw0+zFrDlmJ+WIE7Rz6k9yaANSiiigAooooAjtv+PWL/cH8qzNY8SWWh6no9jeRXkkusXRtbdre1eVEYIz5dlBCjC9/c/dV2XTtv8Aj1i/3B/Ks3W9Gl1S80a5t7pLeTS78XeHhMglUxSROnDLglZWw3OCAcEcUAVLHx14e1Gze6tL2UwLaPe75LSaMNAmN0i7kG4DcOmcnIHIOJovGOhzavFpsV27XEzBEb7NL5Rcp5gj83bsD7Pm2Ft2O1c7c/Dm9Hh/T9O0vXYraW30aTR555rEyiWJwuWVRIuxgV4yWHPINSaR8NLXSPFI1aMaVcKZROzz6SjXayeWE+S43ZVMjdjaSMkBsUAdzRRRQAUUUUARt/x9J/uN/NakqNv+PpP9xv5rUlAHJ2PxK8PXsKP/AMTG2Ml1Paxx3GmTq7tCwV227MhRkEk42jO7aVYDRm8Y6FBbpNJettktYruMJBIzSRyttj2qFJZmbgKAW9qzLPwM0Gq/aLjUVmt1n1CVIVtyjBbtgzKX3nJVt2CAMggY4ycSX4UXN/ZpDrOtWd99ltLW1s0fSgYgtu5ZTMjSMJdwYhgNo9NtAHe6Vq1lrenre6bK0kJZkO+No3RlJVlZGAZWBBBBAIq5WV4b0RPD+hx2EcVhGVZncadZC0hyTn5YgTjjA5JJx1rVoAKKKKACo7b/AI9Yv9wfyqSo7b/j1i/3B/KgDL1vxNZaBfaTaXsN7JJqtz9mgNtaPKqttLZdlBCjjvz1OMKxWtZeOvD2oW8s9reyGKG2kumd7SZAYo8b3Xcg3AbgPlzzkdQcWte0WXV5dKmtrpLaXTb9bsGSEyLINjxsmAy4ysjYOeDg4PSuZufhxejQ7Ox0vXYraWLS59KnmmsTKJYpSCWVRIuxgRwSWHPIoA6KLxjoc2rxabFdu1xMwRG+zS+UXKeYI/N27A+z5thbdjtW3XDaR8NLXSPFI1aMaVcKZROzz6SjXayeWE+S43ZVMjdjaSMkBsV3NABRRRQAVG3/AB9J/uN/NakqNv8Aj6T/AHG/mtAElctpfxE0LVmgSIajDLc3k1nDDcabOjyPE4VzjZwoyCScbRndtKsB1Ncrpfg2XTtei1B9SSaKC6vriKEWxVgLp1cqzbznawbBAGQQMcZIBcfxt4fjsbS7N8xivbNL222W8jNNE5VUKqF3FiZEATG456VpaVq1lrenre6bK0kJZkO+No3RlJVlZGAZWBBBBAIrz6b4RT3lnZWupa1aXdvpdnFZ6dDLpQZFSN0ZPOVpCJcqm1gNmc5G013HhvRE8P6HHYRxWEZVmdxp1kLSHJOfliBOOMDkknHWgDVooooAKKKKAI7b/j1i/wBwfyootv8Aj1i/3B/KigCvCXCNtRSN7cl8fxH2p+6X/nmn/fw/4UkH+rP++3/oRqSgBm6X/nmn/fw/4Ubpf+eaf9/D/hT6KAGbpf8Anmn/AH8P+FG6X/nmn/fw/wCFRag16um3B0tIXvfLPkLcMVjL443EAnGeuKwfBfiC/wBcj1OPUjC72N0IVljtJbNpAY0f5oJWZ48FiBuPzAAjg0AdBO0v2eXEafcb/lofT6VY3T/884/+/h/wqKb/AI95f9xv5VZoAj3T/wDPOP8A7+H/AAo3T/8APOP/AL+H/CuO8YeK9Y0e81L+yEsfs+i6T/a14t1E7vcJuk/dxlWUIcQv8xDcleOtaEWs63/wm17pE1tp/kCwN1ZhJH3ORJtHmPjCg9wFOPVqAOh3T/8APOP/AL+H/CjdP/zzj/7+H/CuT0zWvE2qaFf+Wmkw6la6m9o0rLI0EMSkEuV3BnIBIxlMnniqafEiGz8Gveanc6bLrJjlktLOKYRfboxK0cU6RsS4jfAbPzYBJBNAHcbp/wDnnH/38P8AhRun/wCecf8A38P+FcNfeK/EXh7VIrDXDpl3uNtM1xa28kSrC9wsEoKtI2ChkRg2cEbvlGOc2T4n6nJp921raWi3K3dy9sJFYrJYJbSTRzkBh94oq9cc0Ael7p/+ecf/AH8P+FG6f/nnH/38P+FeUJ8T9abR5ptNvvD3iG4OnxXIbT43SO0maaKMQTfvZOWErEHcpHltlTWzcfEi4uJo49HtYd91b2yRR3QYNb3Uty0DpLg9IypyowSVIB5BAB326f8A55x/9/D/AIUbp/8AnnH/AN/D/hWdoja6puoPEIs5WjdfIu7ONokmUjnMbO5Qg5H3iDweOg1aAI90/wDzzj/7+H/CjdP/AM84/wDv4f8ACpKKAI90/wDzzj/7+H/CjdP/AM84/wDv4f8ACpKKAI90/wDzzj/7+H/CjdP/AM84/wDv4f8ACpKKAI90/wDzzj/7+H/CjdP/AM84/wDv4f8ACpKKAI90/wDzzj/7+H/CjdP/AM84/wDv4f8ACpKKAI90/wDzzj/7+H/Coomn8yb93H9//nof7o9qs1HF/rJv98f+gigA3T/884/+/h/wo3T/APPOP/v4f8KkooAj3T/884/+/h/wo3T/APPOP/v4f8KkooAj3T/884/+/h/wo3T/APPOP/v4f8KkooAj3T/884/+/h/wo3T/APPOP/v4f8KkooAj3T/884/+/h/wo3T/APPOP/v4f8KoeJNai8OeGNS1meMypY2zzmMNguVGQue2Txn3rmbTx1O/hWaQPb3viAy+RFYpZz2gSVk3qGSb59irlzJgAqpIGeKAO13T/wDPOP8A7+H/AAo3T/8APOP/AL+H/CvO7vx7qyaf4du5Liz0q1v9Ijvry9l0e5vIY5H2fLujkURKNzHc7EDit2DWfEEfjeDTb8aa9rdCeQW1uj+fawocRyySFirBzgbdq4JwC20mgDp90/8Azzj/AO/h/wAKigafyz+7j++3/LQ/3j7VZqOD/Vn/AH3/APQjQAbp/wDnnH/38P8AhRun/wCecf8A38P+FZPinWLrSNNg/s6OJ729u4rO38/Plo7tjewBBIUZOARnGMjORhXvibxRoGpadY6ppcOrPd3UkSPpcYja4jEBkBVJZcRkMCDucggZHJwADs90/wDzzj/7+H/CjdP/AM84/wDv4f8ACuZ0/wCIWkanpgv7WK7MLXVnajdGoO65WJozjd0HnLu7jBwDxmn/AMLOtXs7K4g8P61P9uguLm3jRINzwweXvk5lAA/egAEgnaeOV3AHZbp/+ecf/fw/4Ubp/wDnnH/38P8AhXEJ8YvCb64mnC7IDgH7QZItqnyvNwY9/m/d/i2bc8ZzxV/w74xufEHieWybSbrTrT+zYr2H7airLJvdgG+R2AXCj5Thgc5A4oA6jdP/AM84/wDv4f8ACjdP/wA84/8Av4f8KkooAj3T/wDPOP8A7+H/AAo3T/8APOP/AL+H/CpKKAI90/8Azzj/AO/h/wAKN0//ADzj/wC/h/wqSigCPdP/AM84/wDv4f8ACjdP/wA84/8Av4f8KkooAj3T/wDPOP8A7+H/AAo3T/8APOP/AL+H/CpKKAI90/8Azzj/AO/h/wAKN0//ADzj/wC/h/wqSigCPdP/AM84/wDv4f8ACjdP/wA84/8Av4f8KkooAj3T/wDPOP8A7+H/AAqJmn+1J+7j+43/AC0PqvtVmo2/4+k/3G/mtABun/55x/8Afw/4Ubp/+ecf/fw/4VJXE6d8SBdwwfa/DmqW081xfRiEPBJsjtJhHJIzCTAGT0GTlWA3DazAHZbp/wDnnH/38P8AhRun/wCecf8A38P+FclqnxO0LR7CC6vhPGtxZW95CHaKPeJmIRNzuFVvlJO4hQB96tvwz4ksPFmgw6tpTE28jOmGZWKsjFWGUZlPIPKkgjkEg0AaW6f/AJ5x/wDfw/4Ubp/+ecf/AH8P+FSUUAR7p/8AnnH/AN/D/hRun/55x/8Afw/4VJRQBWt2n+yxfu4/uD/lofT6VLun/wCecf8A38P+FFt/x6xf7g/lWRrviGbRtX0Gxi0q4vl1e9a0aaKWNVtsRPJuIZgW4jY4HZW/i2q4Br7p/wDnnH/38P8AhRun/wCecf8A38P+Fcrp/wARdP1DTTenTdStojpsmqR+ekWZIE25ICyHk7sAHHQ9sEw23xU8OXXiyDw/FI/2qaQQhjLDxKY/M2GPzPN6cbtmzPG7NAHYbp/+ecf/AH8P+FG6f/nnH/38P+FSUUAR7p/+ecf/AH8P+FG6f/nnH/38P+FSUUAVmaf7Un7uP7jf8tD6r7VLun/55x/9/D/hQ3/H0n+4381qSgCPdP8A884/+/h/wo3T/wDPOP8A7+H/AArjLD4lfaY4xeeGtUtp5Lu7gWESW8hVLZwskjESYAGeQCTlSF3fKWsal8TNC0nT4ry9E8Uc1jb3sYcxpuWdiqJuZwobIOdxCgc7qAOr3T/884/+/h/wo3T/APPOP/v4f8Ky/C/ifT/F2hpquksTC0jxMrOjFXRipG5GZW6dVYggjBrYoAj3T/8APOP/AL+H/CjdP/zzj/7+H/CpKKAI90//ADzj/wC/h/wqK3af7LF+7j+4P+Wh9PpVmo7b/j1i/wBwfyoAN0//ADzj/wC/h/wo3T/884/+/h/wrG8Q+I5tC1HRLWLSLi/XVb37I0sMsaC3+Rn3EMwLcKTgdlbnO1WzrD4i6ff2Mt3/AGdqVvElhNqKGZIsywxbQxUK55JbADY+6e2CQDqt0/8Azzj/AO/h/wAKN0//ADzj/wC/h/wrj7b4qeHLrxZB4fikf7VNIIQxlh4lMfmbDH5nm9ON2zZnjdmu0oAj3T/884/+/h/wo3T/APPOP/v4f8KkooAj3T/884/+/h/wqJmn+1J+7j+43/LQ+q+1Wajb/j6T/cb+a0AG6f8A55x/9/D/AIUbp/8AnnH/AN/D/hUlcbo3xCbU7i2tp/Dep2l1dX11aRxGSB9qwSBHkdhJgAZ5AycqwXd8pYA67dP/AM84/wDv4f8ACjdP/wA84/8Av4f8K5C++KWgadounaneLcRQ6lp0WoW4kMUeVkZAqFmcKrZkGckKACS3FbfhfxPp/i7Q01XSWJhaR4mVnRiroxUjcjMrdOqsQQRg0Aam6f8A55x/9/D/AIUbp/8AnnH/AN/D/hUlFAEe6f8A55x/9/D/AIUbp/8AnnH/AN/D/hUlFAEVrn7JDng7Fzj6UUtt/wAesX+4P5UUAQwf6s/77f8AoRqSoYUJRj5jj524GP7x9qf5Z/56yf8Ajv8AhQA+imeWf+esn/jv+FHln/nrJ/47/hQBDqNkupabPZvNPAsyFPNt5DHImf4lYdCKp6HoEeitdzPfXeo3d5Irz3d2U3vtUKoxGqqAAOgUdSTkmtLyz/z1k/8AHf8ACjyz/wA9ZP8Ax3/CgAm/495f9xv5VZqnPG32eXE0n3G/u+n0qx5T/wDPeT8l/wAKAMHxD4Ls/EV28897fWontvsd5FaugS8g3E+VJuViB8zDKlTh2Gea0/7Ig/4SL+2d8n2j7L9l25GzZv3ZxjOc+9W/Kf8A57yfkv8AhR5T/wDPeT8l/wAKAOf1HwVa3+h6jpaajf2kWo3hu53gaPcxJBMeHRlKHABUg5GQcgkVcHh1Ljw5c6NrN/d6vBcqyPJciKOQKRjA8lEAx1BAyD36VqeU/wDz3k/Jf8KPKf8A57yfkv8AhQByQ+H3ny6qur65farFqWnix826SMXFuoLHMboqoOWB5QncoJY4AqzJ8PtEe4EyCeJl0U6GoRxhbc9CAQfnHIB9zxXSeU//AD3k/Jf8KPKf/nvJ+S/4UAZt34dtL3w1FocskwtolhVXVhvPlMrLk4x1QZ49elZd78O9EvNY1TUwbq3udTSHzDBKFEcsT70nTj5ZAQuTyDtGQcnPTeU//PeT8l/wo8p/+e8n5L/hQBnaJoS6ObqWTULzUru7dWmurxk3ttGFUKiqigDsqjqSck1q1H5T/wDPeT8l/wAKPKf/AJ7yfkv+FAElFR+U/wDz3k/Jf8KPKf8A57yfkv8AhQBJRUflP/z3k/Jf8KPKf/nvJ+S/4UASUVH5T/8APeT8l/wo8p/+e8n5L/hQBJRUflP/AM95PyX/AAo8p/8AnvJ+S/4UASUVH5T/APPeT8l/wo8p/wDnvJ+S/wCFAElRxf6yb/fH/oIo8p/+e8n5L/hUUUT+ZN+/k+/6L/dHtQBZoqPyn/57yfkv+FHlP/z3k/Jf8KAJKKj8p/8AnvJ+S/4UeU//AD3k/Jf8KAJKKj8p/wDnvJ+S/wCFHlP/AM95PyX/AAoAkoqPyn/57yfkv+FHlP8A895PyX/CgCHVNNttY0m606/QvbXUTRSqCQdrDBwRyD6EdK5+P4daFOlw3iGEeI7q4ILXWsQQzSIAu1QoEaqoA9FySSSTXTeU/wDz3k/Jf8KPKf8A57yfkv8AhQByb/DbSx4dtNCsr/UbDS4bP7DPa2rxql5F/EJAUIDMSxZ02Md7ZPTF7TPCT6X4ivNWi1/VJheztNPaTLbtG2QQqbvJEgRARtG/jHfJzveU/wDz3k/Jf8KPKf8A57yfkv8AhQBJUcH+rP8Avv8A+hGjyn/57yfkv+FRQRP5Z/fyffbsv94+1AEGt6Lb69pps7p5YsSJNFPAwWSGRGDI6kgjIIHUEHoQQSKzbHwZbWmpW+pXGo6hf38M7ztcXTx5lZovKwVRFUKF6BQvPJySc73lP/z3k/Jf8KPKf/nvJ+S/4UAcda/DDTbH7GlpquqxWtrJaTNaiSLy7iS22iN3zHuzhFBClQcDjPNaNt4H021j01I57ojTbC4sIdzr80cxjLlvl5YeUuMYHJ4NdB5T/wDPeT8l/wAKPKf/AJ7yfkv+FAHM6Z4AsdJU29pqWo/2bJHsn013jME58oRFm+TeCVAJCsFJ5xVjw/4Oh8P6i17/AGtqWoy/ZI7JPtzxsI4UJKqNiLk/MfmbJPcmt7yn/wCe8n5L/hR5T/8APeT8l/woAkoqPyn/AOe8n5L/AIUeU/8Az3k/Jf8ACgCSio/Kf/nvJ+S/4UeU/wDz3k/Jf8KAJKKj8p/+e8n5L/hR5T/895PyX/CgCSio/Kf/AJ7yfkv+FHlP/wA95PyX/CgCSio/Kf8A57yfkv8AhR5T/wDPeT8l/wAKAJKKj8p/+e8n5L/hR5T/APPeT8l/woAkoqPyn/57yfkv+FHlP/z3k/Jf8KAJKjb/AI+k/wBxv5rR5T/895PyX/Comif7Un7+T7jdl9V9qALNc7Y+CrCy1D7V9pu5wJL50hmZNiC7kWSVRhQSN6kjJJG9hkjAG95T/wDPeT8l/wAKPKf/AJ7yfkv+FAHGwfC+whCM2uazLPbwwQ2U7yQ77NYWJj2YiAONzA7w24Eg5rrdOtHsbCO3lvLi+dMlri5K+ZISScnaqqOuMAAAVL5T/wDPeT8l/wAKPKf/AJ7yfkv+FAElFR+U/wDz3k/Jf8KPKf8A57yfkv8AhQBJRUflP/z3k/Jf8KPKf/nvJ+S/4UAFt/x6xf7g/lVLVtGi1a40yd7ie3l028F5C0O35m2PGVbcpBVkkcHGDzkEEA1Yt4n+yxfv5PuDsvp9Kl8p/wDnvJ+S/wCFAHJ3fw30+40Wx0221TVLFLTTn0wy27xb57dwoZHLRsP4QcqFI5weav6Z4Qh0fVDc6fqmoxWzv5kun74zBJJsCbzlN4JABIDBcjOK3fKf/nvJ+S/4UeU//PeT8l/woAkoqPyn/wCe8n5L/hR5T/8APeT8l/woAkoqPyn/AOe8n5L/AIUeU/8Az3k/Jf8ACgAb/j6T/cb+a1JVZon+1J+/k+43ZfVfapfKf/nvJ+S/4UAYFp4J0+11I3hubuYeddzLBKyeWn2khpVGFBI3AkZJI3HnGAMyD4YWESDzNa1ieWGCCCzmkkhD2awMWi8vbGASCSCXDbhw2a7Lyn/57yfkv+FHlP8A895PyX/CgCHTbOSwsEt5r65v5FJLXN1s8xySTzsVVHXGAAMCrVR+U/8Az3k/Jf8ACjyn/wCe8n5L/hQBJRUflP8A895PyX/Cjyn/AOe8n5L/AIUASVHbf8esX+4P5UeU/wDz3k/Jf8Kit4n+yxfv5PuDsvp9KAK2saLFrDae8lxPbSafdrdwvAVzuCspU7lIKlXYHjPPBB5rBu/hvp9xpFpp9vqmqWKW9jLp7S27xb54JCCyPujYdVGCoUjnnmus8p/+e8n5L/hR5T/895PyX/CgDC0zwhDo+qG50/VNRitnfzJdP3xmCSTYE3nKbwSACQGC5GcV0NR+U/8Az3k/Jf8ACjyn/wCe8n5L/hQBJRUflP8A895PyX/Cjyn/AOe8n5L/AIUASVG3/H0n+4381o8p/wDnvJ+S/wCFRNE/2pP38n3G7L6r7UAWa5/T/B1np2sLqMd3eSNHcXVxHFIybIzcMGkAwoJG4ZGSSNx5xgDc8p/+e8n5L/hR5T/895PyX/CgDi4vhZpsXkf8TnWG+xQJb6eTLEPsCI6ugjxGM7SoHz7sjg5FddptnJYWCW819c38iklrm62eY5JJ52KqjrjAAGBU3lP/AM95PyX/AAo8p/8AnvJ+S/4UASUVH5T/APPeT8l/wo8p/wDnvJ+S/wCFAElFR+U//PeT8l/wo8p/+e8n5L/hQAW3/HrF/uD+VFJajFpCM5+ReT34ooAig/1Z/wB9v/QjUlRwf6s/77f+hGpKACiiigCjrepNo+h3eoJZ3F69vEXS2tomkklbsoVQTyfbjrXJ/DDVrvUY/EMWo3l/eXMGp7i93aTwKgeCJtkayqpVQ2/CdQCpP3gT3VRw20Fu8zwQxxNO/mSsiAGR8BdzY6nCgZPYD0oAWb/j3l/3G/lVmq03/HvL/uN/KrNAHnvxHlurfUEvxI0+n6XplxdXljb69Pp0xXch8wCL/WYCMAGIXLHkZrFutaubbdrv9tahFcT6rqtpPEJmkSG2htrl4ytuW2Bl8mFsgAktycNXp2o6HpOsSW76vpdlfvavvga6t0lMTccqWB2ngcj0oTQ9Jj1aXVY9Lsl1GZPLlvFt0E0i8Daz4yRwOCewoA8r0WHxNJp1/ppnv7iWNdNvLiztdbeeWS3kEm8xXUjKY3cx5KBlUBflb581aj8Taw3wh1h47PVlWO3vza6sbyKQxIkkqxq0gl8xnAUDeoYHg7zya9Dg8L6Ba6Zcada6HpsNjdHM9rHaRrFKfVkAw3TuKuvYWcmnHT5LSBrIx+UbZowYymMbdvTGOMdKAPMdKkuLm+8U3t0+vWzWd/fiHWZNVY2NoqA7c2/n8heuPKI9+9Zl1LeWT2WiXWoaza3N3c6d54j1yW6iuYnuQjyxT7hLHuBKlcIOhA4Jr2OCztrVZVtreKETSNLKI0C73b7zHHUnue9ZSeC/C0djcWaeGtHW1uXV54BYRBJWXkFl24YjJwT0oA851O7vI9cttCtLnXNX0238QvbJFZao0dzKv9nvK0JuDLGWCSYb5pM8YJJAFeheDLXVbTQDHrX2hHNzK1vFd3AnmhgLHy0kkBO5gO+5uw3HGa0rbRdKsoLSGz0yzt4rJi9rHFbqqwMQVJQAfKSGYcY4Y+tXaACiiigAooooAKKKKACiiigAooooAKKKKACo4v8AWTf74/8AQRUlRxf6yb/fH/oIoAkooooAKKKKACiiigAooooAw/Gup3ei+Bda1LTR/pdrZSywkgEKwU4Yg8YHU544rhZPEuo6X4evPDpg1WPUkkVLjUrSW51fyo5It5m8xYsq5AKhdgVWZWGVr1VlV0KOoZWGCCMgiqem6LpejWTWej6bZ2FqzFmgtYFiQk8ElVAGTigDzW0kufEPhTwtLYazrR1y70u18iITywLAUx513Ohx5qk8fvAwf5dv3i1XrHxPfaj8ZbSCY6taWb217bw2M1hcRRN5TRYnZmQIxb58EEhV2DhnweuvvBfhbU2gOpeGtIuzbwrbwm4sIpPKiXO1FyvCjJwBwM1rG0tzcRTm3iM0KMkUmwbo1bG5VPUA7VyB1wPSgCWo4P8AVn/ff/0I1JUcH+rP++//AKEaAOe8dXc1totpFFdSWUN3qNta3NzE+x4onkCnD/wluE3dRu4wcGuavVv9O8Vabo/hXxLJI39oSrJFqTzXa23+iF/LcmQPLnhwGf5S3pgV6LdWtve2strewR3FvMpSSKVA6Op6gg8Ee1VbHQdH0yGCHTdKsbOK2ZngS3tkjWJmGGKgD5SQSCR1oA4bRPiRqOqaDHezwWUM0moaXarEA3KXKQNIRlskgySbT/sjIODmGHxn4uvLDRmt5NFjn1TT77UCXspWWJYPICpgTAkkyNlsjGRx8p3dx/winh03dtdf2Dpn2i0REt5vsce+FUOVCNjKgHkAdDVpNI02NYRHp9qgt4nhhCwKPLjfG9F44U7VyBwcD0oA83074meJdTnfUbXw8smjW4xOoaISA/ZhNkOZ9xOSAE8k5X5t3atfwhq+taj4zb+2dRsrlJ9CtryOLTw6RR+ZI/8ACztuOBjfxuAHAxXVxeHNEh1KHUYdG0+O+giEMV0lqgljjA2hFfGQuOMDjFLpnh3RdEklk0bR7DT3m/1jWlqkRfnPJUDPNAGjRRRQAUUUUAFFFFABRRRQAUUUUAFFFFABRRRQAVG3/H0n+4381qSo2/4+k/3G/mtAEleaaT4o8Wn7NbXN7pl3NJcaw8kv9nun7u0uhEsaqJepy2CScDbncVLP6XVK30bS7O7e6tNNtILiSSSR5ooFV2d9u9iQMktsTJ77Vz0FAHn2p/EzVoLfS49Os7W6utS06wnjCKCEmuGYE4eVFK4TCqXXJIG6u28K3+q6l4fin8QWSWV/5kiSRIyEHa5UNhHcKSACV3tg5GTikh8H+Gbe3uoIPDukxQ3gxcxpYxhZxnOHAX5ueee9aVlY2mmWUVnptrDaWsIxHBBGI0QdcBRwKAJ6KKKACiiigCO2/wCPWL/cH8q5/wAT3ur2niDwpDpV7b21te6m9vexy23mtMgtppcBtw2/6o84JyVPQMr9Bbf8esX+4P5VHd6fZ6gIRf2kF0LeZZ4fOiD+XIv3XXI4YdiORQB59p3j7XD4fj1DVP7M33Hh2fWYhFC8aoyBMId0h3D5iSRjqBxjJl0Xxv4m1nxUsMGjRHR47pbS5lzErI3khy4Yz7+rDCeScrzu7V2F54X0DULO1tL/AEPTbq2sxi2hntI3SAYxhFIwvAHSpF8P6MurR6ouk2I1CKPy47wWyeciYxtD4yBjjGelAGhRRRQAUUUUARt/x9J/uN/NakqNv+PpP9xv5rUlAHmWmeKfF6tDa3N9pd5NJfaoHl/s90xFayhQiqJep5AJJwCudxBLGpfEvVbey0/7BaWt1c3+mafcIsYBCTXMhUnDSoCvHyqXXJIG7mvQING0u1vHu7bTbOG5kkaR5o4FV2dgAzFgMkkKoJ74HpVSDwh4atoLqG28PaVDFeLtuY47KNVnGc4cBfmGeeaAG+FL/V9R0FZvEVillfrLJG8aMmGCsQGwkkgUkYyu9sHIzW1Vew0+z0uxjs9MtILO1iGI4LeIRogznhQAByasUAFFFFABUdt/x6xf7g/lUlR23/HrF/uD+VAHO+Lb7WbPV/DEej31tawXmp/Z7tJrUymVPJkfAO8bf9WexOSpzgFW5zT/AB9rh0Vr7U/7MzLoV1q0IjhdAhiKKqMTIdw5JJGPvAdsn0G80+z1GONNQtILpIpVmjWeIOEkU5VxkcMD0PUVTvPC+gahaW1rf6Hpt1b2ufs8M9pG6Q567QRhfwoA4/RfG/ibWfFSwwaNEdHjultLmXMSsjeSHLhjPv6sMJ5JyvO7tXolZ6+H9GXVo9UXSbEahFH5cd4LZPORMY2h8ZAxxjPStCgAooooAKjb/j6T/cb+a1JUbf8AH0n+4381oAkrznw94i8Vz6pY6df6hply1xqeoxyzCwePbDbTBNiKJepG4AknAK53EEt6NVKDRtLtbx7u202zhuZJGkeaOBVdnYAMxYDJJCqCe+B6UAec3nxQ1eLRvDslpZWlxfazpNtctHGoxFPLJGnR5UG0F3AVnUlgBuHNdz4Uv9X1HQVm8RWKWV+sskbxoyYYKxAbCSSBSRjK72wcjNOTwh4bi+1eX4e0pPtoZbrbZRjzwSCQ/wAvzZIBOe4rQsNPs9LsY7PTLSCztYhiOC3iEaIM54UAAcmgCxRRRQAUUUUAR23/AB6xf7g/lRRbf8esX+4P5UUAV4YwyMSzj526OR/Efen+UP70n/fxv8aSD/Vn/fb/ANCNSUAM8of3pP8Av43+NHlD+9J/38b/ABp9FADPKH96T/v43+NHlD+9J/38b/Gs7xRGJvCOrxGVoRJYzL5qRNIUyhG4IvLY64HJ7Vy3wvk09I9VstHh0GW0tZIQuo6DaCCC6JTJVgGfLp3O4/eHQ5FAHbzxKbeXLSfcb/lo3p9aseQnrJ/38b/Gopv+PeX/AHG/lVmgCPyE9ZP+/jf40eQnrJ/38b/GvLPij/Z/9sar/a3lfbf+Ef8A+Kd837/2/fL/AMe//TXd9n+7zjHbNUPFk/iWTxxPdnRNWivG03VLbSzFNbsiRiNdkiBZS25mwxyoblFAO0mgD2LyE9ZP+/jf40eQnrJ/38b/ABrxK6bTP7H1aPwPcWVr4dlj0iO+uIN32aJjLN9oMmwqc7PIEnzKdp+YryRo63qmo3/wS1uODTtFXRILO5t0vbGV4o5VR2VXht9jL5ZAHPm/3sZGCQD1zyE9ZP8Av43+NHkJ6yf9/G/xrwGTT7G51KKx0e38Na/ZS63YssenxC20qVzb3e6MoPOAkG1WZgWyGj4GK15tA8PeHvGOn2/xCj0K206ex1Ge2sZHD21mzS2gWKAyKp3YDsNqqcu20CgD2fyE9ZP+/jf40eQnrJ/38b/GvHhHrGn6Np9qwu0uvGGmx6aZJVYywyq2FkfPO/7LI7Etzm3GeaqW+jw2Pi67mt9F0yztYPFlvbrrisftNoixQFYNoQYifAiz5mP33K96APbPIT1k/wC/jf40eQnrJ/38b/GpKKAI/IT1k/7+N/jR5Cesn/fxv8akooAj8hPWT/v43+NHkJ6yf9/G/wAakooAj8hPWT/v43+NHkJ6yf8Afxv8akooAj8hPWT/AL+N/jR5Cesn/fxv8akooAj8hPWT/v43+NHkJ6yf9/G/xqSigCPyE9ZP+/jf41FFAnmTcyff/wCejf3R71ZqOL/WTf74/wDQRQAeQnrJ/wB/G/xo8hPWT/v43+NSUUAR+QnrJ/38b/GjyE9ZP+/jf41JRQBH5Cesn/fxv8aPIT1k/wC/jf41JRQBH5Cesn/fxv8AGjyE9ZP+/jf41JRQBH5Cesn/AH8b/GjyE9ZP+/jf41jeN5dQh8B65Jo3mC/WxlMDRZ3q208rjJ3DqMAnIrzixvr248I32geGdNttX0dJglzqXhvy4VkiaLdIn76f5pScKzh2OGJ4YUAeweQnrJ/38b/GjyE9ZP8Av43+NeDyzWU/hGwfV7f7Nqf/AAiWnr4cjuSpl+1hpQzW+0n52xbN8p3bSu4D5gOp0sadZfGF/I/sPUtRv9QuPPH9nlNS09BAcOZCxPlHYqD5VB81SCc4oA9P8hPWT/v43+NRQQJ5Z5k++3/LRv7x96s1HB/qz/vv/wChGgA8hPWT/v43+NHkJ6yf9/G/xrmfiJt/4RqH7Xu/sz7db/2ljOPs3mDfux/B03dtu7PGa48WmiXviTRoPAGoyabYtqU+LnTUia2V/sZ3fZwytHg8bsKRu3fxZNAHq3kJ6yf9/G/xo8hPWT/v43+NeS6J8SNRn0yxh1TVoI9Wvr7Sfs9uY0V5reZYBMyrjlSxmBb+E8AjipLbWfFF9p+gD/hKLuGXUtK1DUJpUtLYkNEbcRooMRAUb2Jzknc3I+XaAereQnrJ/wB/G/xo8hPWT/v43+NePaT468YaprSyJe6WkohEkehy3AWW6T7KJA8cPkFzlzkOJtmAVIyK1/h7qi6v44nuR4k/4SCRtCtmml8uJPIkMkhaLEartwf4Wy655JoA9K8hPWT/AL+N/jR5Cesn/fxv8akooAj8hPWT/v43+NHkJ6yf9/G/xqSigCPyE9ZP+/jf40eQnrJ/38b/ABqSigCPyE9ZP+/jf40eQnrJ/wB/G/xqSigCPyE9ZP8Av43+NHkJ6yf9/G/xqSigCPyE9ZP+/jf40eQnrJ/38b/GpKKAI/IT1k/7+N/jR5Cesn/fxv8AGpKKAI/IT1k/7+N/jUTQJ9qTmT7jf8tG9V96s1G3/H0n+4381oAPIT1k/wC/jf40eQnrJ/38b/GpK8n0DUdde6h0u28VX15Ml5rjXHmrbySlre6RYYm/d/KCjhsAA4k+XauwKAeqeQnrJ/38b/GjyE9ZP+/jf4145e/EzVbrT7X+w9atJf8AiW2B1G5LxoljNI7CV5H8txGwwqkMhCbslRXo/gi81DUPCVrc6tf2Wozu0gF3ZS+bHKgdgp3hEDHAAJVQpIJAwaANzyE9ZP8Av43+NHkJ6yf9/G/xqSigCPyE9ZP+/jf40eQnrJ/38b/GpKKAK1vAn2WLmT7g/wCWjen1qXyE9ZP+/jf40W3/AB6xf7g/lXLeM5p7bX/B0ia1c6ZbSaz5FwkbxrHcbraYoj7lOcuioACMl+PmCMoB1PkJ6yf9/G/xo8hPWT/v43+NeSw+OdU0fwpZalr/AIiAbUvDk97byXMUMam8Aj2Rx7UG4gEkIck5PUDAtaH4r8Tal8QIbO51bTbeFZlQ6XPcKs08HkBvNSIQbiSx3bxLs4K7cigD1DyE9ZP+/jf40eQnrJ/38b/GpKKAI/IT1k/7+N/jR5Cesn/fxv8AGpKKAKzQJ9qTmT7jf8tG9V96l8hPWT/v43+NDf8AH0n+4381qSgCPyE9ZP8Av43+NHkJ6yf9/G/xrynRdR177emlW3iq/u511HVvPEq28kv7iRTFEf3fyhlIOABw/wAu0bdtS7+JeqXelwtoWsWk7Lpdg1/cFkVbKaSUrM8jCNxGwAAIZCEzkrgGgD2HyE9ZP+/jf40eQnrJ/wB/G/xrB8C3uoah4UhuNV1Gy1OVpZAl3YzCWOWMOQp3iONWIHBKoAcZAroqAI/IT1k/7+N/jR5Cesn/AH8b/GpKKAI/IT1k/wC/jf41FbwJ9li5k+4P+Wjen1qzUdt/x6xf7g/lQAeQnrJ/38b/ABo8hPWT/v43+Ncp45luLbVPCk0et3Wl2zawsNwsTxrHOGikKq5dTnLKqgZAJf8AvbSvIR+OdU0fw3DqOveIgDqGhXd3bPcxQxr9rQoEjjwg3EDJCncSS3UAAAHrXkJ6yf8Afxv8aPIT1k/7+N/jXl+h+K/E2pfECGzudW023hWZUOlz3CrNPB5AbzUiEG4ksd28S7OCu3Ir1SgCPyE9ZP8Av43+NHkJ6yf9/G/xqSigCPyE9ZP+/jf41E0Cfak5k+43/LRvVferNRt/x9J/uN/NaADyE9ZP+/jf40eQnrJ/38b/ABqSvLPC+oaw3iC00hvFd9d41bVBeCYW7y7YZl8uI/u/kVlYHAA4f5do27QD0/yE9ZP+/jf40eQnrJ/38b/GvGLn4m6zNoujx6ZrFrJejR7c6zIxjQWNwZYkleQiNxEy5cEFCq5yVwK9J8C3uoah4UhuNV1Gy1OVpZAl3YzCWOWMOQp3iONWIHBKoAcZAoA3vIT1k/7+N/jR5Cesn/fxv8akooAj8hPWT/v43+NHkJ6yf9/G/wAakooAitRi0hA7IvU+1FLbf8esX+4P5UUAVopY1Vg0ig724LD+8ak8+H/nqn/fQogJ8s8/xt/6EakyfU0AR+fD/wA9U/76FHnw/wDPVP8AvoVJk+poyfU0AR+fD/z1T/voUefD/wA9U/76FLNOlvBJNPKsUUal3d2wqqBkkk9ABVXSNZtNc09L7TZJZLZydkkkLxbx/eUOASp7MOD2JoAmmnh+zy/vU+438Q9KsfaYP+e0f/fQqOYn7PLz/A38qsUAR/aYP+e0f/fQo+0wf89o/wDvoVT1nXdN8P2cd1rF0ttDJNHbxswJLyO21VAAJJJP4DJPAJqO08SaRf65c6PZXqT31qm+aJASEGdpBbG3IPBGcjuKAND7TB/z2j/76FH2mD/ntH/30KxpvGvh+FdQJ1DzDpt0lncrDDJKwnYDbGqqpLt8w4UEg5HUHE3/AAlWjf8ACMy+IDdldNgVzLK0Lho9jFWDIRvDAggqRkEdKANP7TB/z2j/AO+hR9pg/wCe0f8A30KzdV8UaPol0ttql55EzRCUL5TtlDKkQOQD/HKg/HPQE1HrHi/RdBuJLfU7qRJ444ZDFFbSzORLIYo9qopLFnBUAZPtQBrfaYP+e0f/AH0KPtMH/PaP/voVgw+PfDc09rB9veG4urv7HFBc2s0Mom2bwjI6hkyvILAA9s1Pe+MNC07WzpF3fql8ogJhEbtjz5fKiyQCBucgdeM5OBzQBr/aYP8AntH/AN9Cj7TB/wA9o/8AvoVBY6pZ6lJdLYzed9kmMErKp2iQAblDEYbGcHBOCCDyCKt0AR/aYP8AntH/AN9Cj7TB/wA9o/8AvoVJRQBH9pg/57R/99Cj7TB/z2j/AO+hUlFAEf2mD/ntH/30KPtMH/PaP/voVJRQBH9pg/57R/8AfQo+0wf89o/++hUlFAEf2mD/AJ7R/wDfQo+0wf8APaP/AL6FSUUAR/aYP+e0f/fQqKK4g8yb99H9/wDvD+6Ks1HF/rJv98f+gigA+0wf89o/++hR9pg/57R/99CpKKAI/tMH/PaP/voUfaYP+e0f/fQqSigCP7TB/wA9o/8AvoUfaYP+e0f/AH0KkooAj+0wf89o/wDvoUfaYP8AntH/AN9CpKKAI/tMH/PaP/voUfaYP+e0f/fQpZpo7eCSa4kWKKNS7u7YVVAySSegArNt/E2k3Ph2XXUuWj0yFGla4mgkiGxRkuA6gsuOQQCD2zQBo/aYP+e0f/fQo+0wf89o/wDvoVhT+O/DttHYPLft5d/bx3MLrbSsqxSEBJJCFIiUk4BfaM59DU9p4v0S+1xtItrt2uw8kYzbyLHI8fEiJKVCOy85VWJGDnoaANb7TB/z2j/76FRQXEHln99H99v4h/eNWajg/wBWf99//QjQAfaYP+e0f/fQo+0wf89o/wDvoVBqmqWejadLfalMILeLAZtpYkkgKoUAlmJIAABJJAFUNP8AF+i6nPDBa3UguJpmgWCe2lhlWRU8wq6OoZDs+YbgMgjGc0Aa32mD/ntH/wB9Cj7TB/z2j/76FSUUAR/aYP8AntH/AN9Cj7TB/wA9o/8AvoVJVUajatqzaYJf9MSBbho9p4jLFQc4x1UjGc8UATfaYP8AntH/AN9Cj7TB/wA9o/8AvoVJRQBH9pg/57R/99Cj7TB/z2j/AO+hUlFAEf2mD/ntH/30KPtMH/PaP/voVJRQBH9pg/57R/8AfQo+0wf89o/++hUlFAEf2mD/AJ7R/wDfQo+0wf8APaP/AL6FSUUAR/aYP+e0f/fQo+0wf89o/wDvoVJRQBH9pg/57R/99Cj7TB/z2j/76FSUUAR/aYP+e0f/AH0Kia4g+1J++j+438Q9VqzUbf8AH0n+4381oAPtMH/PaP8A76FH2mD/AJ7R/wDfQqSo4LmC6jMlrNHMiu8ZaNwwDIxVlyO4ZSCOxBHagA+0wf8APaP/AL6FH2mD/ntH/wB9CpKKAI/tMH/PaP8A76FH2mD/AJ7R/wDfQqSigCP7TB/z2j/76FH2mD/ntH/30KkooArW9xB9li/fR/cH8Q9Kl+0wf89o/wDvoUW3/HrF/uD+VEtzBBJDHPNHG9w5jhV3AMjbS21Qep2qxwOyk9qAD7TB/wA9o/8AvoUfaYP+e0f/AH0KkooAj+0wf89o/wDvoUfaYP8AntH/AN9CpKKAI/tMH/PaP/voUfaYP+e0f/fQqSigCs1xB9qT99H9xv4h6rUv2mD/AJ7R/wDfQob/AI+k/wBxv5rUlAEf2mD/AJ7R/wDfQo+0wf8APaP/AL6FJBcwXSM9rNHMqO0bNG4YK6kqynHcEEEdiKloAj+0wf8APaP/AL6FH2mD/ntH/wB9CpKKAI/tMH/PaP8A76FH2mD/AJ7R/wDfQqSigCP7TB/z2j/76FRW9xB9li/fR/cH8Q9Ks1Hbf8esX+4P5UAH2mD/AJ7R/wDfQo+0wf8APaP/AL6FJNcwW7wpPNHE07+XEruAZHwW2rnqcKTgdgfSpaAI/tMH/PaP/voUfaYP+e0f/fQqSigCP7TB/wA9o/8AvoUfaYP+e0f/AH0KkooAj+0wf89o/wDvoVE1xB9qT99H9xv4h6rVmo2/4+k/3G/mtAB9pg/57R/99Cj7TB/z2j/76FSVmaRrkWs3F+lta3CQ2Vw1t9pkCCOd1JDhMMW+VgVJYDnpmgC/9pg/57R/99Cj7TB/z2j/AO+hVWy1eC+1TUbCJJBLpzokpYDaxdA428+jDrjmr1AEf2mD/ntH/wB9Cj7TB/z2j/76FSUUAR/aYP8AntH/AN9Cj7TB/wA9o/8AvoVJRQBFakG0hIOQUXBH0opbb/j1i/3B/KigCGD/AFZ/32/9CNSVDDIqowO7O9uiE/xH2p/mp/t/9+2/woAfRTPNT/b/AO/bf4Uean+3/wB+2/woAyfGGk3GveC9Y0qzcJPeWckMZY4BLKRgnBwD0zg9ehrO8E2Oq2f9pG/t9Rs7KSSM2lpqd8LueMhAJD5gd/lLYwu44wTgZxXT+an+3/37b/CjzU/2/wDv23+FABN/x7y/7jfyqzVOeZPs8v3/ALjf8s29PpVjz09JP+/bf4UAcN8RfCOveIJI7vRb2zbyEiSKyubMyFH89WeVX85ADtVRyCcKwBG81qXujaxP4qnu7WeO1eTRDaJfiIMsdwZMhhEWyQOuCcds10vnp6Sf9+2/wo89PST/AL9t/hQB5xoXhnxJ4WTXYns7fVrO4aCOOLTs2U8qeUEklSRp2Icc/eZWLZbeMiorrwTr9x8LtS0+Ge+hmuIbpYNGaW3YMJJndDLMVLNLhhuYS4JHJY5ZvTPPT0k/79t/hR56ekn/AH7b/CgDy3xf8N7yfVWOhRajdW01gkMj3OsTTOrC+tpCFaaUsn7uN2ypH3fXFL4g+HeonxJI+g/2h9mlGl/6XPqRuZYmivjJIym4dz8qYYAgqT2JJFeo+enpJ/37b/Cjz09JP+/bf4UAec+JPhtd3t5YvZ3t3fXUtzLcXWp3jxB4ZFtmW3cKiouEkEZAVeuSe5rEvvAPibWbgajfWb2l/qstpPfva3SB7QrexNtRieTHBGvIyCVOMk4r2Hz09JP+/bf4UeenpJ/37b/CgDC8Gabe6Dov9hXluog01vJs7pCoFzD1VmUY2uM4bgAkbh1wOhqPz09JP+/bf4UeenpJ/wB+2/woAkoqPz09JP8Av23+FHnp6Sf9+2/woAkoqPz09JP+/bf4UeenpJ/37b/CgCSio/PT0k/79t/hR56ekn/ftv8ACgCSio/PT0k/79t/hR56ekn/AH7b/CgCSio/PT0k/wC/bf4UeenpJ/37b/CgCSo4v9ZN/vj/ANBFHnp6Sf8Aftv8KiinTzJuJPv/APPNv7o9qALNFR+enpJ/37b/AAo89PST/v23+FAElFR+enpJ/wB+2/wo89PST/v23+FAElFR+enpJ/37b/Cjz09JP+/bf4UASUVH56ekn/ftv8KPPT0k/wC/bf4UAZPjHSLjX/BOsaTZOEnvLOSGMscAllIwTg4B6E4PXoa4uHwl4o1SzuI47ifSdPS6SeDTdec6nJIyx93W44TzMMql2+ZAcAcV6V56ekn/AH7b/Cjz09JP+/bf4UAeUJ4T8VW3hQaVNpq3lxqnhqz0eWaCSOJLF4mmyZA0hLAJOOU3bjGcABhjqLBdWu/Hrzat4cvrays5JYtOmSW2NuikHdcMBL5heToBs+UHn7zEdf56ekn/AH7b/Cjz09JP+/bf4UASVHB/qz/vv/6EaPPT0k/79t/hUUE6eWeJPvt/yzb+8fagDJ8YadeX+l2kumQC5uLC+gvFti4TzwjZZATwGwSRnAyBkgcjn7/w/d+MNe0y68Q+FbeHTYryRpLa7MMsjJ9nKq0wVmRjvOAAWwACcdu789PST/v23+FHnp6Sf9+2/wAKAPJdE8MeKdN0yx0u50SeYzX2k3k12LuEpbrbrAkqtl9zMPIJG0EEHrnipLb4Y+Zp+gW2oeH7SRINK1Bb1H8tgbuU24jZufmbERw3O3YvIwtereenpJ/37b/Cjz09JP8Av23+FAHj2k/D7xH/AG0t3qh1SPVvJBg1SKazMUP+iiMRyNtNwcPkFFJQnDZzmug+H3hm40fxDLdf8It/wj9v/ZMFrKPOhf7RcI7F3/dsxOQR87YZu4Feg+enpJ/37b/Cjz09JP8Av23+FAElFR+enpJ/37b/AAo89PST/v23+FAElFR+enpJ/wB+2/wo89PST/v23+FAElFR+enpJ/37b/Cjz09JP+/bf4UASUVH56ekn/ftv8KPPT0k/wC/bf4UASUVH56ekn/ftv8ACjz09JP+/bf4UASUVH56ekn/AH7b/Cjz09JP+/bf4UASUVH56ekn/ftv8KPPT0k/79t/hQBJUbf8fSf7jfzWjz09JP8Av23+FRNOn2pOJPuN/wAs29V9qALNeWaR8OvKvre3fw5a2Vpa3Osuj7IfL3TXEb2sqqpJ4jAUZAK+VjAAUn0/z09JP+/bf4UeenpJ/wB+2/woA8cvfCXirWNPtYZtEu7KGy02wsrmEXFo73ohdjIsYcvGV5VgJQA23BAr0fwRo50Lwla2BjvYQjSMsN68LSRBnZgv7kCMAZ4VOFGAOlbnnp6Sf9+2/wAKPPT0k/79t/hQBJRUfnp6Sf8Aftv8KPPT0k/79t/hQBJRUfnp6Sf9+2/wo89PST/v23+FABbf8esX+4P5Vzfi7QV1XW/CmoDSItRbS9W86RmWMvBG0EqbwXI4WQwuQDn92CASorft50+yxcSfcH/LNvT6VL56ekn/AH7b/CgDyWHwZrOgeFLKHTPDZuLq58OT6deQ200EbJdOI8PIzOAwO0gspYjaOCOlrQ/A2p23xAh1TVoNSaWOZZYb2CSz8lIhAE8lyV+0YByNikoeGznNeoeenpJ/37b/AAo89PST/v23+FAElFR+enpJ/wB+2/wo89PST/v23+FAElFR+enpJ/37b/Cjz09JP+/bf4UADf8AH0n+4381qSqzTp9qTiT7jf8ALNvVfapfPT0k/wC/bf4UAeXab8OPL1KK2Phy0s7K3vtUmRwkPlnzXVraRVU5+UAAZAKmMYwAprPu/CfirV9Lhgl0W7sI7TS7CyniFxaO16IZSZVjDF0KkEECUANjDAZr2Hz09JP+/bf4UeenpJ/37b/CgDB8C6KdB8KQ2XlXsCiWR1gvmgMkIZyduIAIlHcKnAziuiqPz09JP+/bf4UeenpJ/wB+2/woAkoqPz09JP8Av23+FHnp6Sf9+2/woAkqO2/49Yv9wfyo89PST/v23+FRW86fZYuJPuD/AJZt6fSgDnvGfh9dY1Hw1ejR4dTfTNVWZ9yRl4ojG6llLkcBzExAOfkBAJAri4/BmtaF4bhj0zw2bi6vNCu7C7jtpoEZbmQptkkZnAYELgkFiAqjGOnrXnp6Sf8Aftv8KPPT0k/79t/hQB5fofgbU7b4gQ6pq0GpNLHMssN7BJZ+SkQgCeS5K/aMA5GxSUPDZzmvVKj89PST/v23+FHnp6Sf9+2/woAkoqPz09JP+/bf4UeenpJ/37b/AAoAkqNv+PpP9xv5rR56ekn/AH7b/ComnT7UnEn3G/5Zt6r7UAWa8k1D4e3Eeg/YrXw3CYJ9bvbm6isoLJpWjZ5Ps7ATgxbQrL1BZRgKBzXq/np6Sf8Aftv8KPPT0k/79t/hQB5DH4I16TwgttrOk3V5Of7OaaKOe1laR4rJYnLJMTFKBIDlWK/31OVGSz8Aa2/iDSLrWrK+H2eKyFs+mzWhj0/yj88bNOGmUZGSImYMGKk4GT6956ekn/ftv8KPPT0k/wC/bf4UASUVH56ekn/ftv8ACjz09JP+/bf4UASUVH56ekn/AH7b/Cjz09JP+/bf4UAFt/x6xf7g/lRSWpzaQkd0XqPaigCKD/Vn/fb/ANCNSVHB/qz/AL7f+hGpKACiiigCC+uJbSykngs576RBlbe3ZA8nPQF2VfzYVm6B4iOuz6hBJpN/pk2nyrFKl4YWyzIHwDFI44VlJ5/iFbEhcRsYlVnwdoZsAntk4OPyNZXhnSJdG0KK3vJElvpWa4vZkztknkYtIRnnbuJA9FAHagDTm/495f8Acb+VWarTf8e8v+438qs0AY+r+JrXRtU0+xuLW9ke/mWFJYoCYo2YkDc5wOx4BLd8YrJn+JGkWmpXdvd2t9Ba2rXEbagyIYWeCMySoAHMmQoY5KAHHBPGdbxFpE+rf2X9meNfseow3UnmEjKJnIGAeea5a38AXZ8azajfW+ly2011cy3N7udrq9t5Y2RbSVCuPLTcuPnI/dL8oyaANyDxtDJZ3slzousWl3ZrG72ElurzskmdjgRsy7SVcZLDBVt2MVYuvFtja+A/+EseG5axNkl8IlVfNKMoYDBbG7BHfHvWV4R8Gz6GdXurkRxXGoxxwJAl7NdrDFEH2AzTfOxzI3YADAA4yaupfD2a/wDhnDoounXVotFj00EX862pZUCljGDtPOcMU3dPQYANS58X6hZ2Ml3deDNchhhVnld7jTwI1UZLEm6wBjP5GooviLpp0ye7vNP1KxeKygvY7S5iQTXCTHbGqKHILl8JtJGGZc4yDVbX/Cepi0sNO8Pxx3+l/aTc6hbaxrNyzzlQvloJHWZvL3DcycA7QOjMDe1Dw5c65q/hjVtTtLKG70q4lkuI452lUK0bAKjFF3fvBE/zKuCmeoGQCSy8a299qwtYtJ1NbY3clkNQaOMwGePcHThy4wysu4qFJGATkZuaL4n0/Xr/AFS0sfOEmmXBglMibQ+CVLIe670kTPHzRsO2TzFx4U8Rr4nbVNMi0e0nWeWZr6G4mia+QqwjhngVNjYJQGQsxwuQoJwJ/C/gPUPC2safdRa5PqUQsWtL1LtYl/i8xXj8uNSx8wyffJOJCc56gHcUUUUAFFFFABRRRQAUUUUAFFFFABRRRQAVHF/rJv8AfH/oIqSo4v8AWTf74/8AQRQBJRRRQAUUUUAFFFFABRRRQBXv7620vTbm/v5VhtbWJpppG6IijLH8AKx28VSjSLW9Tw3rTy3UhSKzEUSy7Qpbe26QJGuB/GytnAxnirfijRf+Ej8Kano/m+Sb22eFZMEhSRwSBgkZ6jI4rjrHwVrFhp2oRRaF4XNnqE8Zn8PmRzZlVjxvD+Vw5cKxHlEfKOc/NQB0dp420/Un0hNLtb29k1S3W6VYo1H2eAnHmSlmAUZyMAknB2g4p9v4ugm8SJo8umajamZ5o7a6uIkWK5aL74Ubi4HUhmVVYDIJyM8XqPws1G4tLNQdMvr0aTDpxvrt5Fk0543d1ntjtYsw8wgZKn5E+blgekg8OatL4+h1u8t9It1tzMpvbIuLm9hYERwyqVAATIOd7ZZAQFyRQB2FRwf6s/77/wDoRqSo4P8AVn/ff/0I0AU9b1m30HTTeXSSy5kSKKCBQ0k0jsFRFBIGSSOpAHUkAE1ht8RdHs5YotejuNCla4a3kGptFGsDCPzAWkDlCrL0Ks3PBwQcaXinR7rV9Ng/s2SJL2yu4ry38/PluyNnYxAJAYZGQDjOcHGDlpofiDUvEGl6rr7aci2V1LKtnbyNKsKNAYwBIyKXYsSxJVcA4GccgHRJrOmSR+ZHqNo6b449yzqRvkCmNc56sHUgd9wx1FUJPGvhaGDz5vEujxxbmTzGv4gu5dpIzu6jzEz/AL6+oriNH+HviTSLCx0yNtKks/tWm3d1MbiQOjWwhV0RPLwwIhBDFl6kEd61LHwDe29toEUzWTf2bpF/YygFiDJOYtrL8vTCPknB56HJoA68a7pB1ddKGqWR1Fo/MWz+0J5xTGdwTOcY5ziqel+L9F1zW59M0a+gv3t4BNJNazJLGuWK7CyscMCvIx0IrhNK+E97bP8AZtReKeJ1En21NWu1e3l+yiH5bbiJyCDhyQdpwV4ro/CPhvWtN137drNvpNskWk2+mxpp0rvv8pmO4hkXaCG4XnHqaAOzooooAKKKKACiiigAooooAKKKKACiiigAooooAKjb/j6T/cb+a1JUbf8AH0n+4381oAkrAsfHfhTUrVLmy8R6ZJDJPJbRv9qRd8iMFZVyRnllxjqHUjIYE79cNp/gvUU1RHvmsxbQyaxseKRmdkvbhZkbBQBWXLqRk9AQTuIAB1U+vaRbWzXFzqtjDAsC3LSyXKKoiY4WQknG0ngN0NWbO9tdRs4rvT7mG6tpl3RzQSB0ceoYcEV5bP8ADnxPqMNn/aDabE2mWllbwR2uo3Ef2o27MSWkRFeLcGyNu4qQPvV3/hTRv7B8PRWRto7Z/MklkijvJbpQzuWJ82X53JJySQMkngUAbNFFFABRRRQBHbf8esX+4P5VR1PxFo+i3+nWWq6jb2lzqkxgsopXw07gZwP0GemWVerKDetv+PWL/cH8qyfEGl3t/qHh+6sBAx03U/tMyTSFN0bQTQttIVvmHnbgDgHbjIzmgCe18S6FfRySWWtadcpFG0kjQ3aOERQCzEg8ABlJPbI9akXXtHfVk0tNVsW1CSPzUtBcoZWTGdwTOSMc5xXBy+A/EFl4Y06x0n+y5blPD8ujXX2ieSONC+w+ahWNi2CrZUhc5HIqbRfh3dad4rS9vI4by2W6W9W4Oq3StDIIRHgWw/dNgjAckHacbeKAPRaKKKACiiigCNv+PpP9xv5rUlRt/wAfSf7jfzWpKAOQ0n4j6HqEeqXl3qej2OmWV6bOK6k1OPMrqSCWUgBASpK/MxYc8VeHjPSoLvVV1S8s9Os9PlhiW8ubpUjmMkQkGC2AOuByc4zWBqHgvXH02KC0ngcDVr28lhW/ns/MjnkkZP30S+YCu8ZQYDcjPArKs/hrrthodpAh0+4u7ZLNUZL+e1ZGislt2ZJUQkZIPysjKynkA0Aeiy6/o8F9aWU2rWMd1eqHtYHuUEk6noUXOWH0rQrzO3+Gl/FrNlPfC11GDybBZyuoXNksMlsAMpbQjypBlQyhtu056jivTKACiiigAqO2/wCPWL/cH8qkqO2/49Yv9wfyoAwfF/i638KwaertZm71K6W2to7y8FtGTglmZyGIAA7KckqO9GreNdJsbO9fT72y1K7sZYori0gu0MkReVY/nAyVwW7jtirWu6TPqd/oU0Dxqunaj9qlDkgsnkSx4XA65kHXHANcAfhr4jn1WS4urq0f91LGJn1G4k83deW84IhZPLgASFhtj4JIyT2APRl8Q6K9/d2SavYNd2SGS6txcoZIEHVnXOVHI5OKm03VtO1qzF3o9/a39sWKie1mWVCR1G5SRmvOtV+Gus6pdavGk1jZWd0Ll4/LuZpPNkklWQfIy5t84w5ikw+SdoOMdd4N0CTQrG8NzaR2tzeXHnShNUuL/eQioGMs4DE4XGMAAADmgDoqKKKACo2/4+k/3G/mtSVG3/H0n+4381oAkrB07xz4V1aFJdP8Q6bOkly1pGRcqPMlDBdi5PzEllxjOdykZBGd6uK0jwjqdn4lt727Nmba1vdSnjKSMzst1IHX5SgCkfMp5PGDnkgAHSya/o8Vmt3Lq1ils1uLpZmuUCGHj96GzjZ8w+bpyPWrNlfWmp2UV5pt1Dd2swzHPBIJEcdMhhwa8rl+Gfia7sdJtLqXTUi0Owgs7X7Pf3EbXfkyxsC7oitDlY/4SxVsH5uleg+E9F/sHQVtWto7aV5pJpY472a7G92JJ82X53J6kkDknigDaooooAKKKKAI7b/j1i/3B/Kii2/49Yv9wfyooArw+ZsbaqEb26sR/Efan5l/ux/99n/Ckg/1Z/32/wDQjUlADMy/3Y/++z/hRmX+7H/32f8ACn0UAMzL/dj/AO+z/hRmX+7H/wB9n/Cs/wAS6nNovhbVNTtY4pZrO0lnjSZwiMyqSAzHoOKyfA/iO/8AEEOpDUjC72dysSSx2ctmzgxI/wA0ErF0ILEZJ+YYI4oA6Ocy/Z5fkj+438Z9PpVjdP8A884/+/h/wqKb/j3l/wBxv5VZoAj3T/8APOP/AL+H/CjdP/zzj/7+H/CuF8e+N9V8M6xDbabHaGIWn2l/OtpJvNPmBNjOjAWy4P8ArZAUz9DUun+O5tT8WapptubeJYJJ7Owgntp1+13MQy2bjHlqBtceWAz4G7gDFAHa7p/+ecf/AH8P+FG6f/nnH/38P+FcTpHjbUI4tbTXEgu7jTnhigW1s5bR7maQECJYpmLY3ABZeFYEkYCk1Ha/EhIPAovdYm0z/hIjDM66XDcBDKVmeJSqsS+zKctg9Ce2KAO63T/884/+/h/wo3T/APPOP/v4f8K5K71fxXoSRf2wNKvEnvLKBLm1geFR506xyIY2kY5CtlXzg55Xjltp4r1i++FUXiK0sYp9TlQHyYYndFHm7GfYpLsFXL7VO5tuByRQB1+6f/nnH/38P+FG6f8A55x/9/D/AIVwa+K9Yl8LXurRa/oDQ2MpV7mHTZZvPyq4i+z/AGhXil3tt2FmLZXgZxXX+H31eTw/ZyeJFtk1R4w1ylqpWNGPO0Asx4GAeTyDigC7un/55x/9/D/hRun/AOecf/fw/wCFSUUAR7p/+ecf/fw/4Ubp/wDnnH/38P8AhUlFAEe6f/nnH/38P+FG6f8A55x/9/D/AIVJRQBHun/55x/9/D/hRun/AOecf/fw/wCFSUUAR7p/+ecf/fw/4Ubp/wDnnH/38P8AhUlFAEe6f/nnH/38P+FG6f8A55x/9/D/AIVJRQBHun/55x/9/D/hUUTT+ZN+7j+//wA9D/dHtVmo4v8AWTf74/8AQRQAbp/+ecf/AH8P+FG6f/nnH/38P+FSUUAR7p/+ecf/AH8P+FG6f/nnH/38P+FSUUAR7p/+ecf/AH8P+FG6f/nnH/38P+FSUUAR7p/+ecf/AH8P+FG6f/nnH/38P+FSUUAR7p/+ecf/AH8P+FG6f/nnH/38P+FUPEmtReHPDGpazPGZUsbZ5zGGwXKjIXPbJ4z71y0HizWb7wu91Z3dj9utZwNQH9i3rNbIy5VVtciaUklfn+UEZbHGKAO43T/884/+/h/wo3T/APPOP/v4f8K86uvH+rix0G7lmstItb3TReXd5JpdxfwRuWUBd8Tqsa4LEs7YHH1rU03xXrFz4itPtKWP9lahqV9ptvFHE4nie2Mo8xnLFWDeQ/yhRjcvJ5oA7HdP/wA84/8Av4f8Kigafyz+7j++3/LQ/wB4+1Wajg/1Z/33/wDQjQAbp/8AnnH/AN/D/hRun/55x/8Afw/4Vk+KdYutI02D+zo4nvb27is7fz8+Wju2N7AEEhRk4BGcYyM5GFe+JvFGgalp1jqmlw6s93dSRI+lxiNriMQGQFUllxGQwIO5yCBkcnAAOz3T/wDPOP8A7+H/AAo3T/8APOP/AL+H/CuZ0/4haRqemC/tYrswtdWdqN0ag7rlYmjON3Qecu7uMHAPGaf/AAs61ezsriDw/rU/26C4ubeNEg3PDB5e+TmUAD96AASCdp45XcAdlun/AOecf/fw/wCFG6f/AJ5x/wDfw/4VxCfGLwm+uJpwuyA4B+0GSLap8rzcGPf5v3f4tm3PGc8Vf8O+MbnxB4nlsm0m6060/s2K9h+2oqyyb3YBvkdgFwo+U4YHOQOKAOo3T/8APOP/AL+H/CjdP/zzj/7+H/CpKKAI90//ADzj/wC/h/wo3T/884/+/h/wqSigCPdP/wA84/8Av4f8KN0//POP/v4f8KkooAj3T/8APOP/AL+H/CjdP/zzj/7+H/CpKKAI90//ADzj/wC/h/wo3T/884/+/h/wqSigCPdP/wA84/8Av4f8KN0//POP/v4f8KkooAj3T/8APOP/AL+H/CjdP/zzj/7+H/CpKKAI90//ADzj/wC/h/wqJmn+1J+7j+43/LQ+q+1Wajb/AI+k/wBxv5rQAbp/+ecf/fw/4Ubp/wDnnH/38P8AhUlcTp3xIF3DB9r8OapbTzXF9GIQ8EmyO0mEckjMJMAZPQZOVYDcNrMAdlun/wCecf8A38P+FG6f/nnH/wB/D/hXJap8TtC0ewgur4TxrcWVveQh2ij3iZiETc7hVb5STuIUAferb8M+JLDxZoMOraUxNvIzphmVirIxVhlGZTyDypII5BINAGlun/55x/8Afw/4Ubp/+ecf/fw/4VJRQBHun/55x/8Afw/4Ubp/+ecf/fw/4VJRQBWt2n+yxfu4/uD/AJaH0+lS7p/+ecf/AH8P+FFt/wAesX+4P5Vka74hm0bV9BsYtKuL5dXvWtGmiljVbbETybiGYFuI2OB2Vv4tquAa+6f/AJ5x/wDfw/4Ubp/+ecf/AH8P+Fcrp/xF0/UNNN6dN1K2iOmyapH56RZkgTbkgLIeTuwAcdD2wTDbfFTw5deLIPD8Uj/appBCGMsPEpj8zYY/M83pxu2bM8bs0Adhun/55x/9/D/hRun/AOecf/fw/wCFSUUAR7p/+ecf/fw/4Ubp/wDnnH/38P8AhUlFAFZmn+1J+7j+43/LQ+q+1S7p/wDnnH/38P8AhQ3/AB9J/uN/NakoAj3T/wDPOP8A7+H/AAo3T/8APOP/AL+H/CuMsPiV9pjjF54a1S2nku7uBYRJbyFUtnCySMRJgAZ5AJOVIXd8paxqXxM0LSdPivL0TxRzWNvexhzGm5Z2Kom5nChsg53EKBzuoA6vdP8A884/+/h/wo3T/wDPOP8A7+H/AArL8L+J9P8AF2hpquksTC0jxMrOjFXRipG5GZW6dVYggjBrYoAj3T/884/+/h/wo3T/APPOP/v4f8KkooAj3T/884/+/h/wqK3af7LF+7j+4P8AlofT6VZqO2/49Yv9wfyoAN0//POP/v4f8KN0/wDzzj/7+H/CsbxD4jm0LUdEtYtIuL9dVvfsjSwyxoLf5GfcQzAtwpOB2Vuc7VbOsPiLp9/Yy3f9nalbxJYTaihmSLMsMW0MVCueSWwA2PuntgkA6rdP/wA84/8Av4f8KN0//POP/v4f8K4+2+Knhy68WQeH4pH+1TSCEMZYeJTH5mwx+Z5vTjds2Z43ZrtKAI90/wDzzj/7+H/CjdP/AM84/wDv4f8ACpKKAI90/wDzzj/7+H/Comaf7Un7uP7jf8tD6r7VZqNv+PpP9xv5rQAbp/8AnnH/AN/D/hRun/55x/8Afw/4VJXG6N8Qm1O4trafw3qdpdXV9dWkcRkgfasEgR5HYSYAGeQMnKsF3fKWAOu3T/8APOP/AL+H/CjdP/zzj/7+H/CuQvviloGnaLp2p3i3EUOpadFqFuJDFHlZGQKhZnCq2ZBnJCgAktxW34X8T6f4u0NNV0liYWkeJlZ0Yq6MVI3IzK3TqrEEEYNAGpun/wCecf8A38P+FG6f/nnH/wB/D/hUlFAEe6f/AJ5x/wDfw/4Ubp/+ecf/AH8P+FSUUARWufskOeDsXOPpRS23/HrF/uD+VFAEMH+rP++3/oRqSoYfM2NtZAN7dVJ/iPvT8S/3o/8Avg/40APopmJf70f/AHwf8aMS/wB6P/vg/wCNAFbV9Lttb0e60y+DG3uojFJsbawB7g9iOtVNC8PR6JJeTtf3mo3d66tPdXhTe21QqjEaqoAA7L3JOa1MS/3o/wDvg/40Yl/vR/8AfB/xoAJv+PeX/cb+VWapziX7PL88f3G/gPp9asbZ/wDnpH/37P8AjQBgeIfBVn4ju5Zp76/tBc2n2K9itXQLd2+SfLfcrED53GUKthiM1FN4CsJ9TkuXv9SW3eaW5SxjmVIoZ5Y2R5kIUSBiHc/fwGYsADzXSbZ/+ekf/fs/40bZ/wDnpH/37P8AjQBztv4C0h1uf+Eg3eJZLjyg0mswwzYWIP5ahRGqjb5khzjJLtknNSad4F0HS/CNz4atLNU026MpmRFWNmMhJJygGCOACOQFXnit7bP/AM9I/wDv2f8AGjbP/wA9I/8Av2f8aAObTwNbu4l1LWNU1O4Wa2kSe6eIMgglEqIAkargsPmONx/vcDEOn/D9dO0j+yovEuuNYIP3EJa3T7OwcOrq6Qq5IYdGZlIJBBFdVtn/AOekf/fs/wCNG2f/AJ6R/wDfs/40AchN8N4Z7iO7fxHrX29bsXb3n+jFpZFj8tNyGEx4Vc7cIMEk8nBHVafazWVhHb3N/cahKmd1zcrGJHySeRGqrxnHCjgdzzUu2f8A56R/9+z/AI0bZ/8AnpH/AN+z/jQBJRUe2f8A56R/9+z/AI0bZ/8AnpH/AN+z/jQBJRUe2f8A56R/9+z/AI0bZ/8AnpH/AN+z/jQBJRUe2f8A56R/9+z/AI0bZ/8AnpH/AN+z/jQBJRUe2f8A56R/9+z/AI0bZ/8AnpH/AN+z/jQBJRUe2f8A56R/9+z/AI0bZ/8AnpH/AN+z/jQBJRUe2f8A56R/9+z/AI0bZ/8AnpH/AN+z/jQBJUcX+sm/3x/6CKNs/wDz0j/79n/Gooln8yb95H9//nmf7o96ALNFR7Z/+ekf/fs/40bZ/wDnpH/37P8AjQBJRUe2f/npH/37P+NG2f8A56R/9+z/AI0ASUVHtn/56R/9+z/jRtn/AOekf/fs/wCNAElFR7Z/+ekf/fs/40bZ/wDnpH/37P8AjQBDqmm22saTdadfoXtrqJopVBIO1hg4I5B9COlc/H4FEXmXEfiTXF1KSVXfURLD5rqqFFjKeV5RUAk8pnJznPNdNtn/AOekf/fs/wCNG2f/AJ6R/wDfs/40Acxd/D6wudGg0mHU9UtNPW0+x3FvDOpW8iJywk3qxBbLZZNrHceemLNl4Ls7LX11NL2+kjjnnurexkdPIt5ps+bIuFD5be/DMQN7YAzW9tn/AOekf/fs/wCNG2f/AJ6R/wDfs/40ASVHB/qz/vv/AOhGjbP/AM9I/wDv2f8AGooFn8s/vI/vt/yzP94+9AEGt6Lb69pps7p5YsSJNFPAwWSGRGDI6kgjIIHUEHoQQSKzbHwZbWmpW+pXGo6hf38M7ztcXTx5lZovKwVRFUKF6BQvPJySc722f/npH/37P+NG2f8A56R/9+z/AI0Acda/DDTbH7GlpquqxWtrJaTNaiSLy7iS22iN3zHuzhFBClQcDjPNaNt4H021j01I57ojTbC4sIdzr80cxjLlvl5YeUuMYHJ4NdBtn/56R/8Afs/40bZ/+ekf/fs/40AczpngCx0lTb2mpaj/AGbJHsn013jME58oRFm+TeCVAJCsFJ5xVjw/4Oh8P6i17/a2pajL9kjsk+3PGwjhQkqo2IuT8x+Zsk9ya3ts/wDz0j/79n/GjbP/AM9I/wDv2f8AGgCSio9s/wDz0j/79n/GjbP/AM9I/wDv2f8AGgCSio9s/wDz0j/79n/GjbP/AM9I/wDv2f8AGgCSio9s/wDz0j/79n/GjbP/AM9I/wDv2f8AGgCSio9s/wDz0j/79n/GjbP/AM9I/wDv2f8AGgCSio9s/wDz0j/79n/GjbP/AM9I/wDv2f8AGgCSio9s/wDz0j/79n/GjbP/AM9I/wDv2f8AGgCSio9s/wDz0j/79n/GjbP/AM9I/wDv2f8AGgCSo2/4+k/3G/mtG2f/AJ6R/wDfs/41Eyz/AGpP3kf3G/5Zn1X3oAs1ztj4KsLLUPtX2m7nAkvnSGZk2ILuRZJVGFBI3qSMkkb2GSMAb22f/npH/wB+z/jRtn/56R/9+z/jQBxsHwvsIQjNrmsyz28MENlO8kO+zWFiY9mIgDjcwO8NuBIOa63TrR7Gwjt5by4vnTJa4uSvmSEknJ2qqjrjAAAFS7Z/+ekf/fs/40bZ/wDnpH/37P8AjQBJRUe2f/npH/37P+NG2f8A56R/9+z/AI0ASUVHtn/56R/9+z/jRtn/AOekf/fs/wCNABbf8esX+4P5VS1bRotWuNMne4nt5dNvBeQtDt+ZtjxlW3KQVZJHBxg85BBANWLdZ/ssX7yP7g/5Zn0+tS7Z/wDnpH/37P8AjQByd38N9PuNFsdNttU1SxS0059MMtu8W+e3cKGRy0bD+EHKhSOcHmr+meEIdH1Q3On6pqMVs7+ZLp++MwSSbAm85TeCQASAwXIzit3bP/z0j/79n/GjbP8A89I/+/Z/xoAkoqPbP/z0j/79n/GjbP8A89I/+/Z/xoAkoqPbP/z0j/79n/GjbP8A89I/+/Z/xoAG/wCPpP8Acb+a1JVZln+1J+8j+43/ACzPqvvUu2f/AJ6R/wDfs/40AYFp4J0+11I3hubuYeddzLBKyeWn2khpVGFBI3AkZJI3HnGAMyD4YWESDzNa1ieWGCCCzmkkhD2awMWi8vbGASCSCXDbhw2a7LbP/wA9I/8Av2f8aNs//PSP/v2f8aAIdNs5LCwS3mvrm/kUktc3WzzHJJPOxVUdcYAAwKtVHtn/AOekf/fs/wCNG2f/AJ6R/wDfs/40ASUVHtn/AOekf/fs/wCNG2f/AJ6R/wDfs/40ASVHbf8AHrF/uD+VG2f/AJ6R/wDfs/41FbrP9li/eR/cH/LM+n1oAraxosWsNp7yXE9tJp92t3C8BXO4KylTuUgqVdgeM88EHmsG7+G+n3GkWmn2+qapYpb2MuntLbvFvngkILI+6Nh1UYKhSOeea6zbP/z0j/79n/GjbP8A89I/+/Z/xoAwtM8IQ6PqhudP1TUYrZ38yXT98Zgkk2BN5ym8EgAkBguRnFdDUe2f/npH/wB+z/jRtn/56R/9+z/jQBJRUe2f/npH/wB+z/jRtn/56R/9+z/jQBJUbf8AH0n+4381o2z/APPSP/v2f8aiZZ/tSfvI/uN/yzPqvvQBZrn9P8HWenawuox3d5I0dxdXEcUjJsjNwwaQDCgkbhkZJI3HnGANzbP/AM9I/wDv2f8AGjbP/wA9I/8Av2f8aAOLi+FmmxeR/wATnWG+xQJb6eTLEPsCI6ugjxGM7SoHz7sjg5FddptnJYWCW819c38iklrm62eY5JJ52KqjrjAAGBU22f8A56R/9+z/AI0bZ/8AnpH/AN+z/jQBJRUe2f8A56R/9+z/AI0bZ/8AnpH/AN+z/jQBJRUe2f8A56R/9+z/AI0bZ/8AnpH/AN+z/jQAW3/HrF/uD+VFJa5+yQ55Oxc4+lFAEUH+rP8Avt/6EakqOD/Vn/fb/wBCNSUAFFFFAGX4nn1O18LajNoUZl1COBjAoTed2OoU/eI6gdzgVi+BdbutTn1m0ubq/vYrG4jWG51GyFrOyvErFXjCJggk4Oxcgjg9T1roJI2RsgMCDtYg/gRyKpaRothoVm1tpkLRo8hlkZ5GleVz1Z3clmbgDLEnAA7UAW5v+PeX/cb+VWarTf8AHvL/ALjfyqzQBwPjjXNasr3Wn0rU2sY9B0L+1vJSGNxdvul/dyF1JCYgx8hU/OTngCm6V4t1K+8YX8N39ttLOa8uNL0tmtomtDNECSznd5zOfKkI+6mPlyW5rp9Z8J6L4gu4rnVbRpZI08v5J5IxIm4NskVGAkTIztcEdeOTRH4T0aLxAdajtGF6XaUHz5DGsjLsaQRbtgcrwXC7iCeeTQBh6NLqupeH9WXVfE1zaS6dqc6NqFrBbxkRIBwVkjdQvOc4J4Hzdcp4f8UPpXhVbnxTd6ncyvazan59xpxURWvzOiySRRLCsgjUZUkHJ6ciuil8OaVNpl/p8lqTa6lI8l3H5rjzWfG7JznBxggcY4xg1a1LTbTV7B7LUYfOtpCpePcQG2sGAOCOMgZHQ9DkGgDzDQPH+pa7pFtpceu2M2q3WqQ28t/YeVMttFNA9xhQMpuUxyQgsD90MQSebOqeJPFelXkek6dd/wBrXdnrqwM8sUayX1t9gkujC21QqyZXAZQo+5kY3Z7nVfCuja3cNcalZ+bM0Sw+asrxsFV96kFSCGVuQwwwycEZNVtI8F6VozKYDcz+VfvqEBuZ2keKZojEx3n55Mo7D94XPPBwFAAOPk+I8sM13r0d99p8Pxai9usYiUHyzpcVygzjdu80OuDzmXB6ACfw5qviXxDexaBqOszWGo6XaSjV7iyhg3NMZwICBJG6gNGkjYA/iHpXWf8ACFeHfsl5a/2XF5F9qA1O4jDNh7kFD5nXjmNcgcHnIOTnQtdHsLLVr/U7W2WO81Hy/tUoJzL5a7UzzgYHHFAGH8O5NSvfBenaprGs3ep3GoWsU7faI4UWIlckIIo045/iyeOtdTVbTdOtdI0u207TovJtbWNYoY9xbaoGAMkkn8as0AFFFFABRRRQAUUUUAFFFFABRRRQAVHF/rJv98f+gipKji/1k3++P/QRQBJRRRQAUUUUAFFFFABRRRQBkeLNZk8PeD9V1eCITTWdrJLFGQSHcL8oOOcZxnFcra6lr+oaDPZx32uQ6zp0yvfQ/ZLFbuZHTKCHLGBUzzlizYRlJzzXeXdpBf2U1peQpPb3EbRSxOMq6MMFSPQg4rn1+H3hxbYRLbXYcTeeLoajcfaQ2zZxP5nmY2/Lt3YxxigDhtW+Kclp4c8OxHX9LtNUkSzudTmmdIyYnmWN0SN8Hcf3hY4+RUY/LlTXW2w1QfEC1trTxPqF/ZJbPe3kE0VqYVR8rCiskKuMnewO48Rc5zXQHw/pZ0O30cWirp9sYjFAjFQnlOrpyDnhkU++Oc81PbabaWd5eXdvFtnvXWSdyxYuVUIOp4ACjgYHU4ySSAWqjg/1Z/33/wDQjUlRwf6s/wC+/wD6EaAMTxhqV5YaXaRabMLa4v76CyW5KBvIDthnCngtgEDPGSMg9Dz99qPirQte0zS7LUrbX3uLyRQl3JHbyGP7OX2zNHEQpDAlSqDIwD3Ndpqml2etadJY6nAJ7eXBZdxUgghlYMCCrAgEEEEEAg5qhp/hHRdMmhntbWQ3EMzTrPPcyzStIyeWWZ3Ys52fKNxOABjGKAMHSPiSuraKuox6W0Ste6faCNp8n/Skgbdnb/D5+Md9vUZ4qp8RtZuLLTJbTw1aPLqVnd30Ub6oVCwweUDuPkn5mMpwACBtXJ+Y7dyP4d+GIbizlhsJYzZmAwol7OI90OPKZkD7XZcABmBOBjOKvQ+FNFt0s1hs9q2NrLaW481zsilKmRevOdi8nJGOCOaAORtfi4l5fGS38P6hJpCKTNepBOxiIh80k4i8raPu583dn+HHNafhnxHrureLpLfWLKHT7Z9JgvIbaK5E/LyOMs2xSGwACoyoxwTWpZ+CNA0+8S5s7OSIqgTyRdS+S+I/LBaLdsdtgC7mUtgDmn6H4O0Tw5dPcaRbTRyvCtvulu5ptsSklY18xm2qMnCjAGaANyiiigAooooAKKKKACiiigAooooAKKKKACiiigAqNv8Aj6T/AHG/mtSVG3/H0n+4381oAkrz7TPHuvyx28eoaHp5uZrjU93kag4SOGzuBETzFlmOSB0B2g/LuKp6DWRZ+FtHsL43ltasJjJcSDfPI6qbhlabCsxADMgbAGM5IALHIBzGqfE8ada2LLo8k9xqFha3VvFG8kmXnLfIRHGz4UIxLKrE/wB2uo8M61Pr+gw393ptxpkzM6PbXEboQVYrkB0RipxkEqpwRkDpWZD8NvC0EMkcdhOQ8cUas9/cM0KxtujETFyYtpPy7CuO1dBp2n2+l2EdnZ+b5UecGaZ5XJJJJLuSzEknkkmgCzRRRQAUUUUAR23/AB6xf7g/lXKeO5NUe/8ADGn6bxb6hqpiuil/JaOyrbzShQ8alsfuyTgjO0L0Ylertv8Aj1i/3B/KorrT7W9ubKe5i3y2Mxnt23EbHMbxk8Hn5JHGDkc56gUAeaah8SLjWbHULK2tZLFkNvPa3ttLNtmi+1xxth2ijByGHMbSKQT83rpXXxSlsbjVo77QZIjZErbw+a5uJ2NwkCZi8oEq7SKQ0XmjH+0VU7lv8O/DFszmKwlw6CIK95O6ogkWQIilyEUOikKoAGMYwSKefAHhpjdb9PaRbpHRo5LqV0jDuHbylLERZdVb92F5UHqBQBP4T8QXPiPSZbq+0m40uaKdoTFNHKgfABDp5scblTuxkovII7ZrcqnpelWujWf2Wy88x7i5a4uZJ5GJ7l5GZj+Jq5QAUUUUARt/x9J/uN/NakqNv+PpP9xv5rUlAHnmn+P/ABA6xxahoenG4kvNQjP2fUHCRxWsgVjloss3UDgBiAfl3ELPqXxOXT7O0kGkSTTXun2l3BFG7uS87lRGQkbNhdpJZVYkdFzXSWvhXR7PUGvYLVhOZZ5stPI6hpsebhSxUBioJAGM5PUnOdB8N/C1vBNFHYTFZYo4syX07tEkbboxGzOTHsbldhXb2xQBo+F9bn8QaGl9eaZcaZP5jxvbzxyIflYgMvmIjFSMEEqp56Ctiqum6db6VYJZ2fm+UhJBmneZySSSWdyWY5PUk1aoAKKKKACo7b/j1i/3B/KpKjtv+PWL/cH8qAMLxPrWraTqnh630qzsriHUtQ+y3L3M7o0a+U7/ACBVIJwjHJPYDHzblxdO+It1d6bJeXeix26nSbjVYVS9MhdIio2t+7G0kk9M4AHckDrtS0iy1cWv26N3NpcLcwNHK8bJIoIBypB6MQR0IJBBBrJvfAPhzUNNtbC4spRbWsD20Sw3k0R8p8b42ZHBdTtGVYkcUAZGmfEibVfFMWm2nh+8ksjMLeW9SKdhFJ5YcknyfK2AkLnzQ2f4cc13VYtt4R0ay1ganaW80NwMEql3KImYJsDtFu2M20Abipbgc1tUAFFFFABUbf8AH0n+4381qSo2/wCPpP8Acb+a0ASV5bp3i3WdGsdS1G/skvr+/wBaubWC2Go3U67IXkXEcUdu5QKExlE+b7zFeBXqVYd14N0O8t0hltZUCXMt0rwXUsTiSUsZDvRg2GLHK52npjgUAcbY+P7w2mp67ZWFzfQXj2EkFvLJJ5dnHLZpKWcxpIyrnglUI3MM4GSLcPxTlu9VsrSw8PXN5HItsbuW0824WAzYPyvFE0TqqkMS0icdATxXQL4B8OR6fHZwWU0EUXlGNoLyaOSPyovJTbIrh1xH8vBGRnOcmpIfA/h+2u7W5tLOS2ktUjRBBdTRrIIySnmKrBZSCScuGPNAG/RRRQAUUUUAR23/AB6xf7g/lRRbf8esX+4P5UUAV4Y1ZGJ3Z3t0cj+I+9P8pP8Ab/7+N/jSQf6s/wC+3/oRqSgBnlJ/t/8Afxv8aPKT/b/7+N/jT6KAGeUn+3/38b/Gjyk/2/8Av43+NeaeItOGm3/j8aStwJbjw/ZzylZXkkYtLe7yCSW+6MADoAAMYFbHw/8A7J/tPxD/AMIp9l/sHz4fs32HH2fzPJHmbNvy/wB3OO+c85oA7CeFPs8v3/uN/wAtG9PrVjyE9ZP+/jf41FN/x7y/7jfyqzQBH5Cesn/fxv8AGjyE9ZP+/jf415p8Wk0RyDPNaJrkdur2cNzE5nnXef3dk+4LHcFgBuVWYZTIxg0wW+hT/Fy2/sie3kuppruLUobdZIr+ImJ8yTSltxgyFVAAoBaNlYgUAeneQnrJ/wB/G/xo8hPWT/v43+NeaWtloFj4L8QWWsNBb6YmvTIjXqvLbo+V2Gcbhuj3YLb2APcjOaqWL69H8Iry30G1t5dPVbvbe2d1Ikjp9okybWBYziMx/wCrxJkDAXdgMwB6t5Cesn/fxv8AGjyE9ZP+/jf414hrz6ObwJ8MG0w2Sz6UZVtCPsgvDfx+Tv2fx7Q2/HzY257VeksLjUIvD1hDdSWXiyDW5pNQuJTlmvFs5mV2wBuhcKoUAAeWdvBBAAPYfIT1k/7+N/jR5Cesn/fxv8a8FkvvEGu+IvtPhy3+wavLqmoLJBO+14WWytFlRGII35VlViNvIbkcGHxWvhi81NjYXGh2FsvhdVs4dXtN9z5omuAyQlnDR3AcEFsO2/kgnqAfQHkJ6yf9/G/xo8hPWT/v43+NRac7yaXavLHJE7QoWSVsup2jIY9yO9WaAI/IT1k/7+N/jR5Cesn/AH8b/GpKKAI/IT1k/wC/jf40eQnrJ/38b/GpKKAI/IT1k/7+N/jR5Cesn/fxv8akooAj8hPWT/v43+NHkJ6yf9/G/wAakooAj8hPWT/v43+NHkJ6yf8Afxv8akooAj8hPWT/AL+N/jUUUCeZNzJ9/wD56N/dHvVmo4v9ZN/vj/0EUAHkJ6yf9/G/xo8hPWT/AL+N/jUlFAEfkJ6yf9/G/wAaPIT1k/7+N/jUlFAEfkJ6yf8Afxv8aPIT1k/7+N/jUlFAEfkJ6yf9/G/xo8hPWT/v43+NSUUAR+QnrJ/38b/GjyE9ZP8Av43+NY3jeXUIfAeuSaN5gv1sZTA0Wd6ttPK4ydw6jAJyK81s7rwzceF5tK1G68Mf2bZ3afYNU+xyNpc0zRbmE6NKVeQDd8zycsyn7wxQB7H5Cesn/fxv8aPIT1k/7+N/jXhV39i/4RuAasrLqY8M2Q8OfbGLTG8Es4Y25IB8w/6MeAG2lcjGa6u0m1ib432F3rGjahama0v4LcvNA0CW6NCVYBZS2WPLEqDmRFwQhYAHpXkJ6yf9/G/xqKCBPLPMn32/5aN/ePvVmo4P9Wf99/8A0I0AHkJ6yf8Afxv8aPIT1k/7+N/jXM/ETb/wjUP2vd/Zn263/tLGcfZvMG/dj+Dpu7bd2eM1x4tNEvfEmjQeANRk02xbUp8XOmpE1sr/AGM7vs4ZWjweN2FI3bv4smgD1byE9ZP+/jf40eQnrJ/38b/GvJdE+JGoz6ZYw6pq0EerX19pP2e3MaK81vMsAmZVxypYzAt/CeARxUltrPii+0/QB/wlF3DLqWlahqE0qWlsSGiNuI0UGIgKN7E5yTubkfLtAPVvIT1k/wC/jf40eQnrJ/38b/GvHtJ8deMNU1pZEvdLSUQiSPQ5bgLLdJ9lEgeOHyC5y5yHE2zAKkZFa/w91RdX8cT3I8Sf8JBI2hWzTS+XEnkSGSQtFiNV24P8LZdc8k0AeleQnrJ/38b/ABo8hPWT/v43+NSUUAR+QnrJ/wB/G/xo8hPWT/v43+NSUUAR+QnrJ/38b/GjyE9ZP+/jf41JRQBH5Cesn/fxv8aPIT1k/wC/jf41JRQBH5Cesn/fxv8AGjyE9ZP+/jf41JRQBH5Cesn/AH8b/GjyE9ZP+/jf41JRQBH5Cesn/fxv8aPIT1k/7+N/jUlFAEfkJ6yf9/G/xqJoE+1JzJ9xv+Wjeq+9Wajb/j6T/cb+a0AHkJ6yf9/G/wAaPIT1k/7+N/jUleT6BqOuvdQ6XbeKr68mS81xrjzVt5JS1vdIsMTfu/lBRw2AAcSfLtXYFAPVPIT1k/7+N/jR5Cesn/fxv8a8cvfiZqt1p9r/AGHrVpL/AMS2wOo3JeNEsZpHYSvI/luI2GFUhkITdkqK9H8EXmoah4StbnVr+y1Gd2kAu7KXzY5UDsFO8IgY4ABKqFJBIGDQBueQnrJ/38b/ABo8hPWT/v43+NSUUAR+QnrJ/wB/G/xo8hPWT/v43+NSUUAVreBPssXMn3B/y0b0+tS+QnrJ/wB/G/xotv8Aj1i/3B/KuW8ZzT22v+DpE1q50y2k1nyLhI3jWO43W0xRH3Kc5dFQAEZL8fMEZQDqfIT1k/7+N/jR5Cesn/fxv8a8lh8c6po/hSy1LX/EQDal4cnvbeS5ihjU3gEeyOPag3EAkhDknJ6gYFrQ/FfibUviBDZ3OrabbwrMqHS57hVmng8gN5qRCDcSWO7eJdnBXbkUAeoeQnrJ/wB/G/xo8hPWT/v43+NSUUAR+QnrJ/38b/GjyE9ZP+/jf41JRQBWaBPtScyfcb/lo3qvvUvkJ6yf9/G/xob/AI+k/wBxv5rUlAEfkJ6yf9/G/wAaPIT1k/7+N/jXlOi6jr329NKtvFV/dzrqOreeJVt5Jf3EimKI/u/lDKQcADh/l2jbtqXfxL1S70uFtC1i0nZdLsGv7gsirZTSSlZnkYRuI2AABDIQmclcA0Aew+QnrJ/38b/GjyE9ZP8Av43+NYPgW91DUPCkNxquo2WpytLIEu7GYSxyxhyFO8RxqxA4JVADjIFdFQBH5Cesn/fxv8aPIT1k/wC/jf41JRQBH5Cesn/fxv8AGoreBPssXMn3B/y0b0+tWajtv+PWL/cH8qADyE9ZP+/jf40eQnrJ/wB/G/xrlPHMtxbap4Umj1u60u2bWFhuFieNY5w0UhVXLqc5ZVUDIBL/AN7aV5CPxzqmj+G4dR17xEAdQ0K7u7Z7mKGNftaFAkceEG4gZIU7iSW6gAAA9a8hPWT/AL+N/jR5Cesn/fxv8a8v0PxX4m1L4gQ2dzq2m28KzKh0ue4VZp4PIDeakQg3Elju3iXZwV25FeqUAR+QnrJ/38b/ABo8hPWT/v43+NSUUAR+QnrJ/wB/G/xqJoE+1JzJ9xv+Wjeq+9Wajb/j6T/cb+a0AHkJ6yf9/G/xqrb3enXd5c2lrfRz3NmVFzDHc7ngLDKh1ByuRyM9avV40dT1Hw34dmW28QzW8uoeItQQ3l5LbW8UeyWXgyG3kG59owuxiSMKVAxQB65G1rNPNDFceZLAQJY1nJaMkZAYZ4yCDz2qXyE9ZP8Av43+NeL2fivU28O3OtjVrXSrrUX0yW6uJHSFfn09XZVkkjkjjJbGC64P3cgkGrVn418Uah4g0iBdYsbGKSKyaOHUnS2k1JZD+9ZYhDIXPUDy5VCkBjlTQB695Cesn/fxv8aPIT1k/wC/jf41JRQBH5Cesn/fxv8AGjyE9ZP+/jf41JRQBFajFpCB2Rep9qKW2/49Yv8AcH8qKAIoAfLPH8bf+hGpMH0NR28MTxlnjRiXbJKg/wARqX7NB/zxj/74FACYPoaMH0NL9mg/54x/98Cj7NB/zxj/AO+BQAmD6GjB9DS/ZoP+eMf/AHwKPs0H/PGP/vgUARzA/Z5eP4G/lVio/s0H/PGP/vgUfZoP+eMf/fAoAkoqP7NB/wA8Y/8AvgUfZoP+eMf/AHwKAJKKj+zQf88Y/wDvgUfZoP8AnjH/AN8CgBgsrUX7XwtoRdtGImnCDzCgOQu7rjJJxU9R/ZoP+eMf/fAo+zQf88Y/++BQBJRUf2aD/njH/wB8Cj7NB/zxj/74FAElFR/ZoP8AnjH/AN8Cj7NB/wA8Y/8AvgUASUVH9mg/54x/98Cj7NB/zxj/AO+BQBJRUf2aD/njH/3wKPs0H/PGP/vgUASUVH9mg/54x/8AfAo+zQf88Y/++BQBJRUf2aD/AJ4x/wDfAo+zQf8APGP/AL4FAElFR/ZoP+eMf/fAo+zQf88Y/wDvgUASVHF/rJv98f8AoIo+zQf88Y/++BR9mg/54x/98CgCSio/s0H/ADxj/wC+BR9mg/54x/8AfAoAkoqP7NB/zxj/AO+BR9mg/wCeMf8A3wKAJKKj+zQf88Y/++BR9mg/54x/98CgCSio/s0H/PGP/vgUfZoP+eMf/fAoAkoqP7NB/wA8Y/8AvgUfZoP+eMf/AHwKAJKKj+zQf88Y/wDvgUfZoP8AnjH/AN8CgCSo4P8AVn/ff/0I0fZoP+eMf/fAo+zQf88Y/wDvgUASUVH9mg/54x/98Cj7NB/zxj/74FAElFR/ZoP+eMf/AHwKPs0H/PGP/vgUASUVH9mg/wCeMf8A3wKPs0H/ADxj/wC+BQBJRUf2aD/njH/3wKPs0H/PGP8A74FAElFR/ZoP+eMf/fAo+zQf88Y/++BQBJRUf2aD/njH/wB8Cj7NB/zxj/74FAElFR/ZoP8AnjH/AN8Cj7NB/wA8Y/8AvgUASUVH9mg/54x/98Cj7NB/zxj/AO+BQBJRUf2aD/njH/3wKPs0H/PGP/vgUASUVH9mg/54x/8AfAo+zQf88Y/++BQBJUbf8fSf7jfzWj7NB/zxj/74FH2aD/njH/3wKAJKKj+zQf8APGP/AL4FH2aD/njH/wB8CgCSio/s0H/PGP8A74FH2aD/AJ4x/wDfAoAkoqP7NB/zxj/74FH2aD/njH/3wKAJKKj+zQf88Y/++BR9mg/54x/98CgAtv8Aj1i/3B/KpKj+zQf88Y/++BR9mg/54x/98CgCSio/s0H/ADxj/wC+BR9mg/54x/8AfAoAkoqP7NB/zxj/AO+BR9mg/wCeMf8A3wKAJKKj+zQf88Y/++BR9mg/54x/98CgAb/j6T/cb+a1JUf2aD/njH/3wKPs0H/PGP8A74FAElFR/ZoP+eMf/fAo+zQf88Y/++BQBJRUf2aD/njH/wB8Cj7NB/zxj/74FAElFR/ZoP8AnjH/AN8Cj7NB/wA8Y/8AvgUASVHbf8esX+4P5UfZoP8AnjH/AN8Cj7NB/wA8Y/8AvgUASUVH9mg/54x/98Cj7NB/zxj/AO+BQBJRUf2aD/njH/3wKPs0H/PGP/vgUASUVH9mg/54x/8AfAo+zQf88Y/++BQBJUbf8fSf7jfzWj7NB/zxj/74FH2aD/njH/3wKAJKKj+zQf8APGP/AL4FH2aD/njH/wB8CgCSio/s0H/PGP8A74FH2aD/AJ4x/wDfAoAkoqP7NB/zxj/74FH2aD/njH/3wKAJKKj+zQf88Y/++BR9mg/54x/98CgAtv8Aj1i/3B/Kij7NB/zxj/74FFAH/9k=)"
      ],
      "metadata": {
        "id": "I4fIS-Yr3uiT"
      }
    },
    {
      "cell_type": "markdown",
      "source": [
        "Data Source : <i>https://www.ibm.com/docs/en/cognos-analytics/11.1.0?topic=samples-telco-customer-churn</i>\n",
        "\n",
        "---\n",
        "\n",
        "<br>\n",
        "<a href=\"https://www.linkedin.com/in/ika-sulistyaningtiyas-016396100/\"><img src=\"https://img.shields.io/badge/-© 2024 Ika Sulistyaningtiyas-417DAC?style=for-the-badge&logoColor=white\"/></a>"
      ],
      "metadata": {
        "id": "tYpJFuKG_BYT"
      }
    }
  ],
  "metadata": {
    "kernelspec": {
      "display_name": "base",
      "language": "python",
      "name": "python3"
    },
    "language_info": {
      "codemirror_mode": {
        "name": "ipython",
        "version": 3
      },
      "file_extension": ".py",
      "mimetype": "text/x-python",
      "name": "python",
      "nbconvert_exporter": "python",
      "pygments_lexer": "ipython3",
      "version": "3.11.8"
    },
    "colab": {
      "provenance": []
    }
  },
  "nbformat": 4,
  "nbformat_minor": 0
}